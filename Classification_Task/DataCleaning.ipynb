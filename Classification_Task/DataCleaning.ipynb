{
 "cells": [
  {
   "cell_type": "code",
   "execution_count": 1,
   "metadata": {
    "collapsed": true
   },
   "outputs": [],
   "source": [
    "import pandas as pd\n",
    "import numpy as np"
   ]
  },
  {
   "cell_type": "code",
   "execution_count": 2,
   "outputs": [],
   "source": [
    "df = pd.read_csv(\"data/orig_data.csv\")"
   ],
   "metadata": {
    "collapsed": false
   }
  },
  {
   "cell_type": "code",
   "execution_count": 3,
   "outputs": [
    {
     "data": {
      "text/plain": "         age   sex 'on thyroxine' 'query on thyroxine'  \\\ncount   3772  3772           3772                 3772   \nunique    94     3              2                    2   \ntop       59     F              f                    f   \nfreq      95  2480           3308                 3722   \n\n       'on antithyroid medication'  sick pregnant 'thyroid surgery'  \\\ncount                         3772  3772     3772              3772   \nunique                           2     2        2                 2   \ntop                              f     f        f                 f   \nfreq                          3729  3625     3719              3719   \n\n       'I131 treatment' 'query hypothyroid'  ... 'TT4 measured'   TT4  \\\ncount              3772                3772  ...           3772  3772   \nunique                2                   2  ...              2   242   \ntop                   f                   f  ...              t     ?   \nfreq               3713                3538  ...           3541   231   \n\n       'T4U measured'   T4U 'FTI measured'   FTI 'TBG measured'   TBG  \\\ncount            3772  3772           3772  3772           3772  3772   \nunique              2   147              2   235              1     1   \ntop                 t     ?              t     ?              f     ?   \nfreq             3385   387           3387   385           3772  3772   \n\n       'referral source'     Class  \ncount               3772      3772  \nunique                 5         4  \ntop                other  negative  \nfreq                2201      3481  \n\n[4 rows x 30 columns]",
      "text/html": "<div>\n<style scoped>\n    .dataframe tbody tr th:only-of-type {\n        vertical-align: middle;\n    }\n\n    .dataframe tbody tr th {\n        vertical-align: top;\n    }\n\n    .dataframe thead th {\n        text-align: right;\n    }\n</style>\n<table border=\"1\" class=\"dataframe\">\n  <thead>\n    <tr style=\"text-align: right;\">\n      <th></th>\n      <th>age</th>\n      <th>sex</th>\n      <th>'on thyroxine'</th>\n      <th>'query on thyroxine'</th>\n      <th>'on antithyroid medication'</th>\n      <th>sick</th>\n      <th>pregnant</th>\n      <th>'thyroid surgery'</th>\n      <th>'I131 treatment'</th>\n      <th>'query hypothyroid'</th>\n      <th>...</th>\n      <th>'TT4 measured'</th>\n      <th>TT4</th>\n      <th>'T4U measured'</th>\n      <th>T4U</th>\n      <th>'FTI measured'</th>\n      <th>FTI</th>\n      <th>'TBG measured'</th>\n      <th>TBG</th>\n      <th>'referral source'</th>\n      <th>Class</th>\n    </tr>\n  </thead>\n  <tbody>\n    <tr>\n      <th>count</th>\n      <td>3772</td>\n      <td>3772</td>\n      <td>3772</td>\n      <td>3772</td>\n      <td>3772</td>\n      <td>3772</td>\n      <td>3772</td>\n      <td>3772</td>\n      <td>3772</td>\n      <td>3772</td>\n      <td>...</td>\n      <td>3772</td>\n      <td>3772</td>\n      <td>3772</td>\n      <td>3772</td>\n      <td>3772</td>\n      <td>3772</td>\n      <td>3772</td>\n      <td>3772</td>\n      <td>3772</td>\n      <td>3772</td>\n    </tr>\n    <tr>\n      <th>unique</th>\n      <td>94</td>\n      <td>3</td>\n      <td>2</td>\n      <td>2</td>\n      <td>2</td>\n      <td>2</td>\n      <td>2</td>\n      <td>2</td>\n      <td>2</td>\n      <td>2</td>\n      <td>...</td>\n      <td>2</td>\n      <td>242</td>\n      <td>2</td>\n      <td>147</td>\n      <td>2</td>\n      <td>235</td>\n      <td>1</td>\n      <td>1</td>\n      <td>5</td>\n      <td>4</td>\n    </tr>\n    <tr>\n      <th>top</th>\n      <td>59</td>\n      <td>F</td>\n      <td>f</td>\n      <td>f</td>\n      <td>f</td>\n      <td>f</td>\n      <td>f</td>\n      <td>f</td>\n      <td>f</td>\n      <td>f</td>\n      <td>...</td>\n      <td>t</td>\n      <td>?</td>\n      <td>t</td>\n      <td>?</td>\n      <td>t</td>\n      <td>?</td>\n      <td>f</td>\n      <td>?</td>\n      <td>other</td>\n      <td>negative</td>\n    </tr>\n    <tr>\n      <th>freq</th>\n      <td>95</td>\n      <td>2480</td>\n      <td>3308</td>\n      <td>3722</td>\n      <td>3729</td>\n      <td>3625</td>\n      <td>3719</td>\n      <td>3719</td>\n      <td>3713</td>\n      <td>3538</td>\n      <td>...</td>\n      <td>3541</td>\n      <td>231</td>\n      <td>3385</td>\n      <td>387</td>\n      <td>3387</td>\n      <td>385</td>\n      <td>3772</td>\n      <td>3772</td>\n      <td>2201</td>\n      <td>3481</td>\n    </tr>\n  </tbody>\n</table>\n<p>4 rows × 30 columns</p>\n</div>"
     },
     "execution_count": 3,
     "metadata": {},
     "output_type": "execute_result"
    }
   ],
   "source": [
    "df.describe()"
   ],
   "metadata": {
    "collapsed": false
   }
  },
  {
   "cell_type": "code",
   "execution_count": 4,
   "outputs": [
    {
     "name": "stdout",
     "output_type": "stream",
     "text": [
      "<class 'pandas.core.frame.DataFrame'>\n",
      "RangeIndex: 3772 entries, 0 to 3771\n",
      "Data columns (total 30 columns):\n",
      " #   Column                       Non-Null Count  Dtype \n",
      "---  ------                       --------------  ----- \n",
      " 0   age                          3772 non-null   object\n",
      " 1   sex                          3772 non-null   object\n",
      " 2   'on thyroxine'               3772 non-null   object\n",
      " 3   'query on thyroxine'         3772 non-null   object\n",
      " 4   'on antithyroid medication'  3772 non-null   object\n",
      " 5   sick                         3772 non-null   object\n",
      " 6   pregnant                     3772 non-null   object\n",
      " 7   'thyroid surgery'            3772 non-null   object\n",
      " 8   'I131 treatment'             3772 non-null   object\n",
      " 9   'query hypothyroid'          3772 non-null   object\n",
      " 10  'query hyperthyroid'         3772 non-null   object\n",
      " 11  lithium                      3772 non-null   object\n",
      " 12  goitre                       3772 non-null   object\n",
      " 13  tumor                        3772 non-null   object\n",
      " 14  hypopituitary                3772 non-null   object\n",
      " 15  psych                        3772 non-null   object\n",
      " 16  'TSH measured'               3772 non-null   object\n",
      " 17  TSH                          3772 non-null   object\n",
      " 18  'T3 measured'                3772 non-null   object\n",
      " 19  T3                           3772 non-null   object\n",
      " 20  'TT4 measured'               3772 non-null   object\n",
      " 21  TT4                          3772 non-null   object\n",
      " 22  'T4U measured'               3772 non-null   object\n",
      " 23  T4U                          3772 non-null   object\n",
      " 24  'FTI measured'               3772 non-null   object\n",
      " 25  FTI                          3772 non-null   object\n",
      " 26  'TBG measured'               3772 non-null   object\n",
      " 27  TBG                          3772 non-null   object\n",
      " 28  'referral source'            3772 non-null   object\n",
      " 29  Class                        3772 non-null   object\n",
      "dtypes: object(30)\n",
      "memory usage: 884.2+ KB\n"
     ]
    }
   ],
   "source": [
    "df.info()"
   ],
   "metadata": {
    "collapsed": false
   }
  },
  {
   "cell_type": "code",
   "execution_count": 5,
   "outputs": [
    {
     "data": {
      "text/plain": "Index(['age', 'sex', ''on thyroxine'', ''query on thyroxine'',\n       ''on antithyroid medication'', 'sick', 'pregnant', ''thyroid surgery'',\n       ''I131 treatment'', ''query hypothyroid'', ''query hyperthyroid'',\n       'lithium', 'goitre', 'tumor', 'hypopituitary', 'psych',\n       ''TSH measured'', 'TSH', ''T3 measured'', 'T3', ''TT4 measured'', 'TT4',\n       ''T4U measured'', 'T4U', ''FTI measured'', 'FTI', ''TBG measured'',\n       'TBG', ''referral source'', 'Class'],\n      dtype='object')"
     },
     "execution_count": 5,
     "metadata": {},
     "output_type": "execute_result"
    }
   ],
   "source": [
    "df.columns"
   ],
   "metadata": {
    "collapsed": false
   }
  },
  {
   "cell_type": "code",
   "execution_count": 6,
   "outputs": [
    {
     "data": {
      "text/plain": "  age sex 'on thyroxine' 'query on thyroxine' 'on antithyroid medication'  \\\n0  41   F              f                    f                           f   \n1  23   F              f                    f                           f   \n2  46   M              f                    f                           f   \n3  70   F              t                    f                           f   \n4  70   F              f                    f                           f   \n\n  sick pregnant 'thyroid surgery' 'I131 treatment' 'query hypothyroid'  ...  \\\n0    f        f                 f                f                   f  ...   \n1    f        f                 f                f                   f  ...   \n2    f        f                 f                f                   f  ...   \n3    f        f                 f                f                   f  ...   \n4    f        f                 f                f                   f  ...   \n\n  'TT4 measured'  TT4 'T4U measured'   T4U 'FTI measured'  FTI 'TBG measured'  \\\n0              t  125              t  1.14              t  109              f   \n1              t  102              f     ?              f    ?              f   \n2              t  109              t  0.91              t  120              f   \n3              t  175              f     ?              f    ?              f   \n4              t   61              t  0.87              t   70              f   \n\n  TBG 'referral source'     Class  \n0   ?              SVHC  negative  \n1   ?             other  negative  \n2   ?             other  negative  \n3   ?             other  negative  \n4   ?               SVI  negative  \n\n[5 rows x 30 columns]",
      "text/html": "<div>\n<style scoped>\n    .dataframe tbody tr th:only-of-type {\n        vertical-align: middle;\n    }\n\n    .dataframe tbody tr th {\n        vertical-align: top;\n    }\n\n    .dataframe thead th {\n        text-align: right;\n    }\n</style>\n<table border=\"1\" class=\"dataframe\">\n  <thead>\n    <tr style=\"text-align: right;\">\n      <th></th>\n      <th>age</th>\n      <th>sex</th>\n      <th>'on thyroxine'</th>\n      <th>'query on thyroxine'</th>\n      <th>'on antithyroid medication'</th>\n      <th>sick</th>\n      <th>pregnant</th>\n      <th>'thyroid surgery'</th>\n      <th>'I131 treatment'</th>\n      <th>'query hypothyroid'</th>\n      <th>...</th>\n      <th>'TT4 measured'</th>\n      <th>TT4</th>\n      <th>'T4U measured'</th>\n      <th>T4U</th>\n      <th>'FTI measured'</th>\n      <th>FTI</th>\n      <th>'TBG measured'</th>\n      <th>TBG</th>\n      <th>'referral source'</th>\n      <th>Class</th>\n    </tr>\n  </thead>\n  <tbody>\n    <tr>\n      <th>0</th>\n      <td>41</td>\n      <td>F</td>\n      <td>f</td>\n      <td>f</td>\n      <td>f</td>\n      <td>f</td>\n      <td>f</td>\n      <td>f</td>\n      <td>f</td>\n      <td>f</td>\n      <td>...</td>\n      <td>t</td>\n      <td>125</td>\n      <td>t</td>\n      <td>1.14</td>\n      <td>t</td>\n      <td>109</td>\n      <td>f</td>\n      <td>?</td>\n      <td>SVHC</td>\n      <td>negative</td>\n    </tr>\n    <tr>\n      <th>1</th>\n      <td>23</td>\n      <td>F</td>\n      <td>f</td>\n      <td>f</td>\n      <td>f</td>\n      <td>f</td>\n      <td>f</td>\n      <td>f</td>\n      <td>f</td>\n      <td>f</td>\n      <td>...</td>\n      <td>t</td>\n      <td>102</td>\n      <td>f</td>\n      <td>?</td>\n      <td>f</td>\n      <td>?</td>\n      <td>f</td>\n      <td>?</td>\n      <td>other</td>\n      <td>negative</td>\n    </tr>\n    <tr>\n      <th>2</th>\n      <td>46</td>\n      <td>M</td>\n      <td>f</td>\n      <td>f</td>\n      <td>f</td>\n      <td>f</td>\n      <td>f</td>\n      <td>f</td>\n      <td>f</td>\n      <td>f</td>\n      <td>...</td>\n      <td>t</td>\n      <td>109</td>\n      <td>t</td>\n      <td>0.91</td>\n      <td>t</td>\n      <td>120</td>\n      <td>f</td>\n      <td>?</td>\n      <td>other</td>\n      <td>negative</td>\n    </tr>\n    <tr>\n      <th>3</th>\n      <td>70</td>\n      <td>F</td>\n      <td>t</td>\n      <td>f</td>\n      <td>f</td>\n      <td>f</td>\n      <td>f</td>\n      <td>f</td>\n      <td>f</td>\n      <td>f</td>\n      <td>...</td>\n      <td>t</td>\n      <td>175</td>\n      <td>f</td>\n      <td>?</td>\n      <td>f</td>\n      <td>?</td>\n      <td>f</td>\n      <td>?</td>\n      <td>other</td>\n      <td>negative</td>\n    </tr>\n    <tr>\n      <th>4</th>\n      <td>70</td>\n      <td>F</td>\n      <td>f</td>\n      <td>f</td>\n      <td>f</td>\n      <td>f</td>\n      <td>f</td>\n      <td>f</td>\n      <td>f</td>\n      <td>f</td>\n      <td>...</td>\n      <td>t</td>\n      <td>61</td>\n      <td>t</td>\n      <td>0.87</td>\n      <td>t</td>\n      <td>70</td>\n      <td>f</td>\n      <td>?</td>\n      <td>SVI</td>\n      <td>negative</td>\n    </tr>\n  </tbody>\n</table>\n<p>5 rows × 30 columns</p>\n</div>"
     },
     "execution_count": 6,
     "metadata": {},
     "output_type": "execute_result"
    }
   ],
   "source": [
    "df.head()"
   ],
   "metadata": {
    "collapsed": false
   }
  },
  {
   "cell_type": "code",
   "execution_count": 7,
   "outputs": [
    {
     "name": "stdout",
     "output_type": "stream",
     "text": [
      "Column: age\n",
      "['41' '23' '46' '70' '18' '59' '80' '66' '68' '84' '67' '71' '28' '65'\n",
      " '42' '63' '51' '81' '54' '55' '60' '25' '73' '34' '78' '37' '85' '26'\n",
      " '58' '64' '44' '48' '61' '35' '83' '21' '87' '53' '77' '27' '69' '74'\n",
      " '38' '76' '45' '36' '22' '43' '72' '82' '31' '39' '49' '62' '57' '1' '50'\n",
      " '30' '29' '75' '19' '7' '79' '17' '24' '15' '32' '47' '16' '52' '33' '13'\n",
      " '10' '89' '56' '20' '90' '40' '88' '14' '86' '94' '12' '4' '11' '8' '5'\n",
      " '455' '2' '91' '6' '?' '93' '92']\n",
      "\n",
      "Column: sex\n",
      "['F' 'M' '?']\n",
      "\n",
      "Column: 'on thyroxine'\n",
      "['f' 't']\n",
      "\n",
      "Column: 'query on thyroxine'\n",
      "['f' 't']\n",
      "\n",
      "Column: 'on antithyroid medication'\n",
      "['f' 't']\n",
      "\n",
      "Column: sick\n",
      "['f' 't']\n",
      "\n",
      "Column: pregnant\n",
      "['f' 't']\n",
      "\n",
      "Column: 'thyroid surgery'\n",
      "['f' 't']\n",
      "\n",
      "Column: 'I131 treatment'\n",
      "['f' 't']\n",
      "\n",
      "Column: 'query hypothyroid'\n",
      "['f' 't']\n",
      "\n",
      "Column: 'query hyperthyroid'\n",
      "['f' 't']\n",
      "\n",
      "Column: lithium\n",
      "['f' 't']\n",
      "\n",
      "Column: goitre\n",
      "['f' 't']\n",
      "\n",
      "Column: tumor\n",
      "['f' 't']\n",
      "\n",
      "Column: hypopituitary\n",
      "['f' 't']\n",
      "\n",
      "Column: psych\n",
      "['f' 't']\n",
      "\n",
      "Column: 'TSH measured'\n",
      "['t' 'f']\n",
      "\n",
      "Column: TSH\n",
      "['1.3' '4.1' '0.98' '0.16' '0.72' '0.03' '?' '2.2' '0.6' '2.4' '1.1' '2.8'\n",
      " '3.3' '12' '1.2' '1.5' '6' '2.1' '0.1' '0.8' '1.9' '3.1' '0.2' '13' '0.3'\n",
      " '0.035' '2.5' '0.5' '1.7' '7.3' '1.8' '0.26' '45' '5.4' '0.99' '0.25'\n",
      " '0.92' '0.15' '0.64' '1' '0.4' '2' '2.6' '14.8' '15' '19' '0.02' '3'\n",
      " '2.9' '3.2' '9' '1.6' '4.3' '0.005' '0.31' '0.61' '0.05' '7.8' '160'\n",
      " '0.025' '1.4' '0.01' '8.8' '151' '0.04' '3.9' '9.4' '2.7' '2.3' '0.94'\n",
      " '0.045' '3.5' '0.88' '0.08' '4.5' '0.68' '0.7' '0.67' '27' '6.1' '0.75'\n",
      " '0.55' '26' '5.2' '0.77' '0.07' '0.9' '11.4' '143' '0.45' '0.57' '0.65'\n",
      " '0.015' '16' '108' '0.83' '9.2' '86' '0.62' '0.59' '9.1' '5.9' '52'\n",
      " '0.33' '31' '5.8' '0.28' '51' '6.3' '4.4' '9.6' '3.4' '0.09' '24' '0.76'\n",
      " '42' '25' '10' '4.6' '8.6' '0.66' '6.2' '0.79' '28' '0.86' '9.7' '0.84'\n",
      " '17' '18' '55' '14' '3.7' '0.87' '6.7' '0.74' '7.6' '0.065' '0.29' '0.37'\n",
      " '8' '11' '0.48' '44' '7.9' '5' '7.2' '0.89' '0.93' '0.97' '0.12' '6.4'\n",
      " '33' '0.85' '7.1' '0.73' '199' '8.2' '188' '0.22' '98' '22' '6.6' '5.1'\n",
      " '0.06' '0.42' '3.8' '35' '4' '0.78' '0.63' '0.52' '60' '0.43' '5.6' '6.9'\n",
      " '3.6' '29' '0.38' '4.9' '0.41' '9.9' '7.5' '34' '6.5' '4.7' '103' '0.95'\n",
      " '0.14' '0.35' '4.2' '0.81' '0.54' '0.58' '8.9' '5.5' '0.34' '9.3' '0.13'\n",
      " '54' '0.39' '8.3' '478' '21' '6.8' '0.32' '0.23' '0.24' '8.1' '0.91'\n",
      " '5.3' '100' '0.27' '1.01' '58' '41' '183' '18.4' '0.47' '0.17' '12.1'\n",
      " '0.19' '0.82' '43' '0.44' '70' '7.7' '8.4' '0.69' '8.5' '0.21' '82'\n",
      " '0.055' '0.96' '0.71' '38' '0.36' '9.8' '7' '0.46' '11.1' '39' '76' '5.7'\n",
      " '32' '126' '26.4' '0.53' '0.49' '36' '178' '145' '47' '4.8' '10.3' '89'\n",
      " '7.4' '472' '0.51' '116' '61' '99' '46' '78' '468' '14.4' '165' '9.5'\n",
      " '80' '0.56' '30.5' '20' '0.18' '50' '236' '23' '440' '139' '530' '109'\n",
      " '30' '400' '1.02' '230' '5.73' '66' '65' '117' '40']\n",
      "\n",
      "Column: 'T3 measured'\n",
      "['t' 'f']\n",
      "\n",
      "Column: T3\n",
      "['2.5' '2' '?' '1.9' '1.2' '0.6' '2.2' '1.6' '3.8' '1.7' '1.8' '2.6' '2.1'\n",
      " '0.3' '5.5' '1.4' '3.1' '1.5' '2.3' '2.4' '2.7' '0.9' '1' '2.8' '2.9'\n",
      " '0.8' '1.3' '0.4' '3.3' '3.5' '3.4' '1.1' '4.2' '3.7' '3' '0.7' '4.8'\n",
      " '4.3' '0.05' '3.2' '5.4' '4' '0.5' '0.2' '3.6' '5.2' '5' '6' '5.3' '3.9'\n",
      " '4.6' '4.5' '7.3' '4.7' '6.7' '4.1' '6.1' '0.1' '4.9' '10.6' '5.1' '7'\n",
      " '6.2' '4.4' '7.1' '8.5' '1.44' '7.6' '5.7' '6.6']\n",
      "\n",
      "Column: 'TT4 measured'\n",
      "['t' 'f']\n",
      "\n",
      "Column: TT4\n",
      "['125' '102' '109' '175' '61' '183' '72' '80' '123' '83' '115' '152' '171'\n",
      " '97' '99' '70' '117' '121' '130' '108' '104' '134' '199' '57' '129' '113'\n",
      " '119' '84' '81' '95' '66' '101' '147' '120' '69' '?' '39' '87' '63' '133'\n",
      " '86' '163' '162' '103' '96' '151' '112' '82' '138' '71' '77' '93' '107'\n",
      " '237' '110' '67' '88' '160' '118' '136' '114' '116' '94' '161' '11' '32'\n",
      " '124' '137' '92' '135' '105' '150' '126' '146' '91' '217' '141' '159'\n",
      " '122' '100' '111' '140' '205' '225' '85' '90' '74' '219' '127' '132'\n",
      " '128' '106' '144' '131' '56' '79' '142' '98' '177' '139' '78' '189' '180'\n",
      " '73' '145' '184' '38' '156' '75' '148' '14' '76' '54' '58' '27' '65'\n",
      " '193' '13' '143' '12' '64' '257' '164' '59' '167' '18' '41' '176' '37'\n",
      " '33' '44' '45' '154' '174' '203' '244' '62' '158' '60' '187' '250' '181'\n",
      " '157' '223' '272' '166' '213' '235' '10' '68' '231' '191' '48' '5.8'\n",
      " '169' '149' '210' '40' '155' '232' '42' '204' '430' '198' '230' '15'\n",
      " '170' '165' '47' '168' '194' '89' '52' '179' '192' '172' '4.8' '50' '182'\n",
      " '197' '214' '246' '196' '207' '19' '153' '22' '46' '200' '35' '226' '201'\n",
      " '233' '206' '31' '255' '178' '239' '195' '6' '36' '2' '3' '289' '240'\n",
      " '209' '43' '34' '252' '29' '263' '301' '23' '188' '211' '253' '21' '173'\n",
      " '261' '248' '51' '25' '53' '17' '220' '256' '9.5' '212' '273' '222' '186'\n",
      " '49' '372' '16' '28' '24' '4' '30' '2.9' '55' '216' '258']\n",
      "\n",
      "Column: 'T4U measured'\n",
      "['t' 'f']\n",
      "\n",
      "Column: T4U\n",
      "['1.14' '?' '0.91' '0.87' '1.3' '0.92' '0.7' '0.93' '0.89' '0.95' '0.99'\n",
      " '1.13' '0.86' '0.96' '0.94' '0.9' '1.02' '1.05' '0.62' '1.06' '1.55'\n",
      " '0.83' '1.09' '1.07' '1.27' '0.76' '1.16' '1' '0.56' '0.81' '0.68' '0.78'\n",
      " '0.85' '1.35' '1.15' '0.82' '1.03' '1.58' '0.79' '1.17' '0.71' '0.72'\n",
      " '0.88' '1.11' '1.2' '1.1' '1.33' '0.77' '1.24' '0.53' '1.44' '1.63'\n",
      " '1.51' '1.42' '1.23' '1.01' '0.98' '0.61' '1.12' '1.43' '1.25' '1.41'\n",
      " '1.68' '0.97' '0.84' '0.8' '1.04' '0.73' '1.08' '1.26' '1.46' '1.29'\n",
      " '1.34' '1.66' '1.21' '1.19' '0.75' '0.52' '1.83' '1.39' '1.5' '1.93'\n",
      " '1.18' '0.74' '0.58' '1.82' '0.6' '1.67' '1.22' '0.66' '0.67' '1.31'\n",
      " '0.54' '1.77' '1.59' '1.97' '1.69' '1.38' '1.28' '1.4' '0.69' '0.65'\n",
      " '1.74' '2.03' '1.73' '1.65' '1.36' '1.52' '0.57' '1.53' '1.84' '1.57'\n",
      " '1.75' '1.32' '1.37' '0.64' '1.79' '1.8' '0.48' '1.71' '1.62' '1.76'\n",
      " '1.56' '1.48' '0.59' '0.31' '1.94' '2.12' '1.47' '0.63' '0.944' '0.49'\n",
      " '1.88' '0.5' '0.38' '1.49' '0.41' '1.61' '1.7' '2.32' '0.46' '1.45'\n",
      " '1.54' '0.47' '0.36' '2.01' '0.25']\n",
      "\n",
      "Column: 'FTI measured'\n",
      "['t' 'f']\n",
      "\n",
      "Column: FTI\n",
      "['109' '?' '120' '70' '141' '78' '115' '132' '93' '121' '153' '151' '107'\n",
      " '119' '87' '81' '104' '130' '106' '116' '131' '190' '92' '102' '76' '98'\n",
      " '90' '61' '94' '129' '95' '91' '33' '113' '148' '140' '171' '155' '186'\n",
      " '122' '136' '110' '111' '97' '72' '100' '88' '67' '84' '103' '135' '203'\n",
      " '112' '117' '180' '142' '145' '156' '96' '134' '8.9' '60' '139' '41' '99'\n",
      " '89' '146' '124' '105' '85' '157' '143' '71' '221' '28' '108' '137' '83'\n",
      " '74' '170' '65' '101' '127' '274' '154' '114' '62' '86' '126' '125' '64'\n",
      " '172' '162' '79' '118' '73' '152' '163' '149' '14' '51' '165' '77' '32'\n",
      " '69' '80' '11' '54' '164' '123' '144' '10' '214' '200' '160' '53' '16'\n",
      " '138' '169' '56' '47' '133' '43' '68' '179' '224' '220' '82' '362' '182'\n",
      " '75' '66' '161' '57' '58' '312' '63' '128' '147' '158' '281' '207' '216'\n",
      " '251' '194' '46' '7' '42' '174' '395' '185' '13' '201' '48' '173' '167'\n",
      " '188' '150' '235' '175' '159' '5.4' '189' '59' '166' '34' '228' '232'\n",
      " '217' '177' '176' '195' '219' '17' '210' '168' '205' '39' '187' '50'\n",
      " '349' '52' '206' '253' '242' '244' '213' '178' '247' '215' '198' '19'\n",
      " '237' '37' '7.6' '24' '2' '3' '191' '223' '9' '29' '222' '204' '26' '218'\n",
      " '197' '49' '209' '183' '265' '199' '196' '20' '283' '36' '249' '181'\n",
      " '8.4' '291' '55' '245' '18' '40' '8.5' '184' '4' '21' '280' '2.8' '9.1'\n",
      " '27' '15' '35' '227']\n",
      "\n",
      "Column: 'TBG measured'\n",
      "['f']\n",
      "\n",
      "Column: TBG\n",
      "['?']\n",
      "\n",
      "Column: 'referral source'\n",
      "['SVHC' 'other' 'SVI' 'STMW' 'SVHD']\n",
      "\n",
      "Column: Class\n",
      "['negative' 'compensated_hypothyroid' 'primary_hypothyroid'\n",
      " 'secondary_hypothyroid']\n",
      "\n"
     ]
    }
   ],
   "source": [
    "# loop over the columns of the DataFrame\n",
    "for col in df.columns:\n",
    "    # print the column name\n",
    "    print(\"Column:\", col)\n",
    "    # print the unique values of the column\n",
    "    print(df[col].unique())\n",
    "    print()"
   ],
   "metadata": {
    "collapsed": false
   }
  },
  {
   "cell_type": "code",
   "execution_count": 8,
   "outputs": [],
   "source": [
    "df_cleaned = pd.DataFrame()"
   ],
   "metadata": {
    "collapsed": false
   }
  },
  {
   "cell_type": "code",
   "execution_count": 9,
   "outputs": [],
   "source": [
    "# replace '?' values with NaN\n",
    "age = df.age.replace('?', np.nan)\n",
    "\n",
    "# convert the Series to numeric data type\n",
    "age = pd.to_numeric(age, errors='coerce')\n",
    "\n",
    "# replace NaN values with the mean of the Series\n",
    "mean_age = age.mean()\n",
    "age = age.fillna(mean_age)\n",
    "\n",
    "df_cleaned['age'] = age"
   ],
   "metadata": {
    "collapsed": false
   }
  },
  {
   "cell_type": "code",
   "execution_count": 10,
   "outputs": [
    {
     "data": {
      "text/plain": "       age  sex\n0     41.0  0.0\n1     23.0  0.0\n2     46.0  1.0\n3     70.0  0.0\n4     70.0  0.0\n...    ...  ...\n3767  30.0  0.0\n3768  68.0  0.0\n3769  74.0  0.0\n3770  72.0  1.0\n3771  64.0  0.0\n\n[3772 rows x 2 columns]",
      "text/html": "<div>\n<style scoped>\n    .dataframe tbody tr th:only-of-type {\n        vertical-align: middle;\n    }\n\n    .dataframe tbody tr th {\n        vertical-align: top;\n    }\n\n    .dataframe thead th {\n        text-align: right;\n    }\n</style>\n<table border=\"1\" class=\"dataframe\">\n  <thead>\n    <tr style=\"text-align: right;\">\n      <th></th>\n      <th>age</th>\n      <th>sex</th>\n    </tr>\n  </thead>\n  <tbody>\n    <tr>\n      <th>0</th>\n      <td>41.0</td>\n      <td>0.0</td>\n    </tr>\n    <tr>\n      <th>1</th>\n      <td>23.0</td>\n      <td>0.0</td>\n    </tr>\n    <tr>\n      <th>2</th>\n      <td>46.0</td>\n      <td>1.0</td>\n    </tr>\n    <tr>\n      <th>3</th>\n      <td>70.0</td>\n      <td>0.0</td>\n    </tr>\n    <tr>\n      <th>4</th>\n      <td>70.0</td>\n      <td>0.0</td>\n    </tr>\n    <tr>\n      <th>...</th>\n      <td>...</td>\n      <td>...</td>\n    </tr>\n    <tr>\n      <th>3767</th>\n      <td>30.0</td>\n      <td>0.0</td>\n    </tr>\n    <tr>\n      <th>3768</th>\n      <td>68.0</td>\n      <td>0.0</td>\n    </tr>\n    <tr>\n      <th>3769</th>\n      <td>74.0</td>\n      <td>0.0</td>\n    </tr>\n    <tr>\n      <th>3770</th>\n      <td>72.0</td>\n      <td>1.0</td>\n    </tr>\n    <tr>\n      <th>3771</th>\n      <td>64.0</td>\n      <td>0.0</td>\n    </tr>\n  </tbody>\n</table>\n<p>3772 rows × 2 columns</p>\n</div>"
     },
     "execution_count": 10,
     "metadata": {},
     "output_type": "execute_result"
    }
   ],
   "source": [
    "df = df[df['sex'] != '?']  # drop rows with '?'\n",
    "df_cleaned['sex'] = df['sex'].replace({'M': 1, 'F': 0})  # replace 'M' and 'F'\n",
    "df_cleaned"
   ],
   "metadata": {
    "collapsed": false
   }
  },
  {
   "cell_type": "code",
   "execution_count": 11,
   "outputs": [],
   "source": [
    "df_cleaned['on thyroxine'] = df[\"'on thyroxine'\"].replace({'t': 1, 'f': 0})  # replace 't' and 'f'\n",
    "df_cleaned['query on thyroxine'] = df[\"'query on thyroxine'\"].replace({'t': 1, 'f': 0})  # replace 't' and 'f'\n",
    "df_cleaned['on antithyroid medication'] = df[\"'on antithyroid medication'\"].replace({'t': 1, 'f': 0})  # replace 't' and 'f'\n",
    "df_cleaned['TSH measured'] = df[\"'TSH measured'\"].replace({'t': 1, 'f': 0})  # replace 't' and 'f'\n",
    "df_cleaned['psych'] = df[\"psych\"].replace({'t': 1, 'f': 0})  # replace 't' and 'f'\n",
    "df_cleaned['hypopituitary'] = df[\"hypopituitary\"].replace({'t': 1, 'f': 0})  # replace 't' and 'f'\n",
    "df_cleaned['tumor'] = df[\"tumor\"].replace({'t': 1, 'f': 0})  # replace 't' and 'f'\n",
    "df_cleaned['goitre'] = df[\"goitre\"].replace({'t': 1, 'f': 0})  # replace 't' and 'f'\n",
    "df_cleaned['lithium'] = df[\"lithium\"].replace({'t': 1, 'f': 0})  # replace 't' and 'f'\n",
    "df_cleaned['query hyperthyroid'] = df[\"'query hyperthyroid'\"].replace({'t': 1, 'f': 0})  # replace 't' and 'f'\n",
    "df_cleaned['query hypothyroid'] = df[\"'query hypothyroid'\"].replace({'t': 1, 'f': 0})  # replace 't' and 'f'\n",
    "df_cleaned['I131 treatment'] = df[\"'I131 treatment'\"].replace({'t': 1, 'f': 0})  # replace 't' and 'f'\n",
    "df_cleaned['thyroid surgery'] = df[\"'thyroid surgery'\"].replace({'t': 1, 'f': 0})  # replace 't' and 'f'\n",
    "df_cleaned['pregnant'] = df[\"pregnant\"].replace({'t': 1, 'f': 0})  # replace 't' and 'f'\n",
    "df_cleaned['sick'] = df[\"sick\"].replace({'t': 1, 'f': 0})  # replace 't' and 'f'\n",
    "df_cleaned['T3 measured'] = df[\"'T3 measured'\"].replace({'t': 1, 'f': 0})  # replace 't' and 'f'\n",
    "df_cleaned['TT4 measured'] = df[\"'TT4 measured'\"].replace({'t': 1, 'f': 0})  # replace 't' and 'f'\n",
    "df_cleaned['T4U measured'] = df[\"'T4U measured'\"].replace({'t': 1, 'f': 0})  # replace 't' and 'f'\n",
    "df_cleaned['FTI measured'] = df[\"'FTI measured'\"].replace({'t': 1, 'f': 0})  # replace 't' and 'f'"
   ],
   "metadata": {
    "collapsed": false
   }
  },
  {
   "cell_type": "code",
   "execution_count": 12,
   "outputs": [],
   "source": [
    "# replace '?' values with NaN\n",
    "tsh = df.TSH.replace('?', np.nan)\n",
    "\n",
    "# convert the Series to numeric data type\n",
    "tsh = pd.to_numeric(tsh, errors='coerce')\n",
    "\n",
    "# replace NaN values with the mean of the Series\n",
    "mean_tsh = tsh.mean()\n",
    "tsh = tsh.fillna(mean_tsh)\n",
    "\n",
    "df_cleaned['TSH'] = tsh"
   ],
   "metadata": {
    "collapsed": false
   }
  },
  {
   "cell_type": "code",
   "execution_count": 13,
   "outputs": [],
   "source": [
    "# replace '?' values with NaN\n",
    "t3 = df.T3.replace('?', np.nan)\n",
    "\n",
    "# convert the Series to numeric data type\n",
    "t3 = pd.to_numeric(t3, errors='coerce')\n",
    "\n",
    "# replace NaN values with the mean of the Series\n",
    "mean_t3 = t3.mean()\n",
    "t3 = t3.fillna(mean_t3)\n",
    "\n",
    "df_cleaned['T3'] = t3"
   ],
   "metadata": {
    "collapsed": false
   }
  },
  {
   "cell_type": "code",
   "execution_count": 14,
   "outputs": [],
   "source": [
    "# replace '?' values with NaN\n",
    "tt4 = df.TT4.replace('?', np.nan)\n",
    "\n",
    "# convert the Series to numeric data type\n",
    "tt4 = pd.to_numeric(tt4, errors='coerce')\n",
    "\n",
    "# replace NaN values with the mean of the Series\n",
    "mean_tt4 = tt4.mean()\n",
    "tt4 = tt4.fillna(mean_tt4)\n",
    "\n",
    "df_cleaned['TT4'] = tt4"
   ],
   "metadata": {
    "collapsed": false
   }
  },
  {
   "cell_type": "code",
   "execution_count": 15,
   "outputs": [],
   "source": [
    "# replace '?' values with NaN\n",
    "t4u = df.T4U.replace('?', np.nan)\n",
    "\n",
    "# convert the Series to numeric data type\n",
    "t4u = pd.to_numeric(t4u, errors='coerce')\n",
    "\n",
    "# replace NaN values with the mean of the Series\n",
    "mean_t4u = t4u.mean()\n",
    "t4u = t4u.fillna(mean_t4u)\n",
    "\n",
    "df_cleaned['T4U'] = t4u"
   ],
   "metadata": {
    "collapsed": false
   }
  },
  {
   "cell_type": "code",
   "execution_count": 16,
   "outputs": [],
   "source": [
    "# replace '?' values with NaN\n",
    "fti = df.FTI.replace('?', np.nan)\n",
    "\n",
    "# convert the Series to numeric data type\n",
    "fti = pd.to_numeric(fti, errors='coerce')\n",
    "\n",
    "# replace NaN values with the mean of the Series\n",
    "mean_fti = fti.mean()\n",
    "fti = fti.fillna(mean_fti)\n",
    "\n",
    "df_cleaned['FTI'] = fti"
   ],
   "metadata": {
    "collapsed": false
   }
  },
  {
   "cell_type": "code",
   "execution_count": 17,
   "outputs": [
    {
     "name": "stdout",
     "output_type": "stream",
     "text": [
      "     age sex 'on thyroxine' 'query on thyroxine' 'on antithyroid medication'  \\\n",
      "0     41   F              f                    f                           f   \n",
      "1     23   F              f                    f                           f   \n",
      "2     46   M              f                    f                           f   \n",
      "3     70   F              t                    f                           f   \n",
      "4     70   F              f                    f                           f   \n",
      "...   ..  ..            ...                  ...                         ...   \n",
      "3767  30   F              f                    f                           f   \n",
      "3768  68   F              f                    f                           f   \n",
      "3769  74   F              f                    f                           f   \n",
      "3770  72   M              f                    f                           f   \n",
      "3771  64   F              f                    f                           f   \n",
      "\n",
      "     sick pregnant 'thyroid surgery' 'I131 treatment' 'query hypothyroid'  \\\n",
      "0       f        f                 f                f                   f   \n",
      "1       f        f                 f                f                   f   \n",
      "2       f        f                 f                f                   f   \n",
      "3       f        f                 f                f                   f   \n",
      "4       f        f                 f                f                   f   \n",
      "...   ...      ...               ...              ...                 ...   \n",
      "3767    f        f                 f                f                   f   \n",
      "3768    f        f                 f                f                   f   \n",
      "3769    f        f                 f                f                   f   \n",
      "3770    f        f                 f                f                   f   \n",
      "3771    f        f                 f                f                   f   \n",
      "\n",
      "      ... TBG 'referral source'_STMW 'referral source'_SVHC  \\\n",
      "0     ...   ?                      0                      1   \n",
      "1     ...   ?                      0                      0   \n",
      "2     ...   ?                      0                      0   \n",
      "3     ...   ?                      0                      0   \n",
      "4     ...   ?                      0                      0   \n",
      "...   ...  ..                    ...                    ...   \n",
      "3767  ...   ?                      0                      0   \n",
      "3768  ...   ?                      0                      0   \n",
      "3769  ...   ?                      0                      0   \n",
      "3770  ...   ?                      0                      0   \n",
      "3771  ...   ?                      0                      0   \n",
      "\n",
      "     'referral source'_SVHD 'referral source'_SVI 'referral source'_other  \\\n",
      "0                         0                     0                       0   \n",
      "1                         0                     0                       1   \n",
      "2                         0                     0                       1   \n",
      "3                         0                     0                       1   \n",
      "4                         0                     1                       0   \n",
      "...                     ...                   ...                     ...   \n",
      "3767                      0                     0                       1   \n",
      "3768                      0                     1                       0   \n",
      "3769                      0                     0                       1   \n",
      "3770                      0                     1                       0   \n",
      "3771                      0                     0                       1   \n",
      "\n",
      "     Class_compensated_hypothyroid Class_negative Class_primary_hypothyroid  \\\n",
      "0                                0              1                         0   \n",
      "1                                0              1                         0   \n",
      "2                                0              1                         0   \n",
      "3                                0              1                         0   \n",
      "4                                0              1                         0   \n",
      "...                            ...            ...                       ...   \n",
      "3767                             0              1                         0   \n",
      "3768                             0              1                         0   \n",
      "3769                             0              1                         0   \n",
      "3770                             0              1                         0   \n",
      "3771                             0              1                         0   \n",
      "\n",
      "     Class_secondary_hypothyroid  \n",
      "0                              0  \n",
      "1                              0  \n",
      "2                              0  \n",
      "3                              0  \n",
      "4                              0  \n",
      "...                          ...  \n",
      "3767                           0  \n",
      "3768                           0  \n",
      "3769                           0  \n",
      "3770                           0  \n",
      "3771                           0  \n",
      "\n",
      "[3622 rows x 65 columns]\n"
     ]
    }
   ],
   "source": [
    "# One-hot encode 'referral source' and 'Class' columns\n",
    "df_encoded = pd.get_dummies(df, columns=[\"'referral source'\", \"Class\"])\n",
    "\n",
    "# Create new dataframe with encoded columns\n",
    "df_encoded = pd.concat([df, df_encoded], axis=1)\n",
    "\n",
    "# Remove original columns from the modified dataframe\n",
    "df_encoded = df_encoded.drop([\"'referral source'\", \"Class\"], axis=1)\n",
    "\n",
    "# Print the modified dataframe\n",
    "print(df_encoded)"
   ],
   "metadata": {
    "collapsed": false
   }
  },
  {
   "cell_type": "code",
   "execution_count": 18,
   "outputs": [],
   "source": [
    "df_cleaned['referral_source_STMW'] = df_encoded[\"'referral source'_STMW\"]\n",
    "df_cleaned['referral_source_SVHC'] = df_encoded[\"'referral source'_SVHC\"]\n",
    "df_cleaned['referral_source_SVHD'] = df_encoded[\"'referral source'_SVHD\"]\n",
    "df_cleaned['referral_source_SVI'] = df_encoded[\"'referral source'_SVI\"]\n",
    "df_cleaned['referral_source_other'] = df_encoded[\"'referral source'_other\"]\n",
    "df_cleaned['Class_compensated_hypothyroid'] = df_encoded['Class_compensated_hypothyroid']\n",
    "df_cleaned['Class_negative'] = df_encoded['Class_negative']\n",
    "df_cleaned['Class_primary_hypothyroid'] = df_encoded['Class_primary_hypothyroid']\n",
    "df_cleaned['Class_secondary_hypothyroid'] = df_encoded['Class_secondary_hypothyroid']"
   ],
   "metadata": {
    "collapsed": false
   }
  },
  {
   "cell_type": "code",
   "execution_count": 19,
   "outputs": [
    {
     "data": {
      "text/plain": "       age  sex  on thyroxine  query on thyroxine  on antithyroid medication  \\\n0     41.0  0.0           0.0                 0.0                        0.0   \n1     23.0  0.0           0.0                 0.0                        0.0   \n2     46.0  1.0           0.0                 0.0                        0.0   \n3     70.0  0.0           1.0                 0.0                        0.0   \n4     70.0  0.0           0.0                 0.0                        0.0   \n...    ...  ...           ...                 ...                        ...   \n3767  30.0  0.0           0.0                 0.0                        0.0   \n3768  68.0  0.0           0.0                 0.0                        0.0   \n3769  74.0  0.0           0.0                 0.0                        0.0   \n3770  72.0  1.0           0.0                 0.0                        0.0   \n3771  64.0  0.0           0.0                 0.0                        0.0   \n\n      TSH measured  psych  hypopituitary  tumor  goitre  ...         FTI  \\\n0              1.0    0.0            0.0    0.0     0.0  ...  109.000000   \n1              1.0    0.0            0.0    0.0     0.0  ...  110.272981   \n2              1.0    0.0            0.0    0.0     0.0  ...  120.000000   \n3              1.0    0.0            0.0    0.0     0.0  ...  110.272981   \n4              1.0    0.0            0.0    0.0     0.0  ...   70.000000   \n...            ...    ...            ...    ...     ...  ...         ...   \n3767           0.0    0.0            0.0    1.0     0.0  ...  110.272981   \n3768           1.0    0.0            0.0    0.0     0.0  ...  114.000000   \n3769           1.0    0.0            0.0    0.0     0.0  ...  105.000000   \n3770           1.0    0.0            0.0    0.0     0.0  ...   87.000000   \n3771           1.0    0.0            0.0    0.0     0.0  ...   92.000000   \n\n      referral_source_STMW  referral_source_SVHC  referral_source_SVHD  \\\n0                      0.0                   1.0                   0.0   \n1                      0.0                   0.0                   0.0   \n2                      0.0                   0.0                   0.0   \n3                      0.0                   0.0                   0.0   \n4                      0.0                   0.0                   0.0   \n...                    ...                   ...                   ...   \n3767                   0.0                   0.0                   0.0   \n3768                   0.0                   0.0                   0.0   \n3769                   0.0                   0.0                   0.0   \n3770                   0.0                   0.0                   0.0   \n3771                   0.0                   0.0                   0.0   \n\n      referral_source_SVI  referral_source_other  \\\n0                     0.0                    0.0   \n1                     0.0                    1.0   \n2                     0.0                    1.0   \n3                     0.0                    1.0   \n4                     1.0                    0.0   \n...                   ...                    ...   \n3767                  0.0                    1.0   \n3768                  1.0                    0.0   \n3769                  0.0                    1.0   \n3770                  1.0                    0.0   \n3771                  0.0                    1.0   \n\n      Class_compensated_hypothyroid  Class_negative  \\\n0                               0.0             1.0   \n1                               0.0             1.0   \n2                               0.0             1.0   \n3                               0.0             1.0   \n4                               0.0             1.0   \n...                             ...             ...   \n3767                            0.0             1.0   \n3768                            0.0             1.0   \n3769                            0.0             1.0   \n3770                            0.0             1.0   \n3771                            0.0             1.0   \n\n      Class_primary_hypothyroid  Class_secondary_hypothyroid  \n0                           0.0                          0.0  \n1                           0.0                          0.0  \n2                           0.0                          0.0  \n3                           0.0                          0.0  \n4                           0.0                          0.0  \n...                         ...                          ...  \n3767                        0.0                          0.0  \n3768                        0.0                          0.0  \n3769                        0.0                          0.0  \n3770                        0.0                          0.0  \n3771                        0.0                          0.0  \n\n[3772 rows x 35 columns]",
      "text/html": "<div>\n<style scoped>\n    .dataframe tbody tr th:only-of-type {\n        vertical-align: middle;\n    }\n\n    .dataframe tbody tr th {\n        vertical-align: top;\n    }\n\n    .dataframe thead th {\n        text-align: right;\n    }\n</style>\n<table border=\"1\" class=\"dataframe\">\n  <thead>\n    <tr style=\"text-align: right;\">\n      <th></th>\n      <th>age</th>\n      <th>sex</th>\n      <th>on thyroxine</th>\n      <th>query on thyroxine</th>\n      <th>on antithyroid medication</th>\n      <th>TSH measured</th>\n      <th>psych</th>\n      <th>hypopituitary</th>\n      <th>tumor</th>\n      <th>goitre</th>\n      <th>...</th>\n      <th>FTI</th>\n      <th>referral_source_STMW</th>\n      <th>referral_source_SVHC</th>\n      <th>referral_source_SVHD</th>\n      <th>referral_source_SVI</th>\n      <th>referral_source_other</th>\n      <th>Class_compensated_hypothyroid</th>\n      <th>Class_negative</th>\n      <th>Class_primary_hypothyroid</th>\n      <th>Class_secondary_hypothyroid</th>\n    </tr>\n  </thead>\n  <tbody>\n    <tr>\n      <th>0</th>\n      <td>41.0</td>\n      <td>0.0</td>\n      <td>0.0</td>\n      <td>0.0</td>\n      <td>0.0</td>\n      <td>1.0</td>\n      <td>0.0</td>\n      <td>0.0</td>\n      <td>0.0</td>\n      <td>0.0</td>\n      <td>...</td>\n      <td>109.000000</td>\n      <td>0.0</td>\n      <td>1.0</td>\n      <td>0.0</td>\n      <td>0.0</td>\n      <td>0.0</td>\n      <td>0.0</td>\n      <td>1.0</td>\n      <td>0.0</td>\n      <td>0.0</td>\n    </tr>\n    <tr>\n      <th>1</th>\n      <td>23.0</td>\n      <td>0.0</td>\n      <td>0.0</td>\n      <td>0.0</td>\n      <td>0.0</td>\n      <td>1.0</td>\n      <td>0.0</td>\n      <td>0.0</td>\n      <td>0.0</td>\n      <td>0.0</td>\n      <td>...</td>\n      <td>110.272981</td>\n      <td>0.0</td>\n      <td>0.0</td>\n      <td>0.0</td>\n      <td>0.0</td>\n      <td>1.0</td>\n      <td>0.0</td>\n      <td>1.0</td>\n      <td>0.0</td>\n      <td>0.0</td>\n    </tr>\n    <tr>\n      <th>2</th>\n      <td>46.0</td>\n      <td>1.0</td>\n      <td>0.0</td>\n      <td>0.0</td>\n      <td>0.0</td>\n      <td>1.0</td>\n      <td>0.0</td>\n      <td>0.0</td>\n      <td>0.0</td>\n      <td>0.0</td>\n      <td>...</td>\n      <td>120.000000</td>\n      <td>0.0</td>\n      <td>0.0</td>\n      <td>0.0</td>\n      <td>0.0</td>\n      <td>1.0</td>\n      <td>0.0</td>\n      <td>1.0</td>\n      <td>0.0</td>\n      <td>0.0</td>\n    </tr>\n    <tr>\n      <th>3</th>\n      <td>70.0</td>\n      <td>0.0</td>\n      <td>1.0</td>\n      <td>0.0</td>\n      <td>0.0</td>\n      <td>1.0</td>\n      <td>0.0</td>\n      <td>0.0</td>\n      <td>0.0</td>\n      <td>0.0</td>\n      <td>...</td>\n      <td>110.272981</td>\n      <td>0.0</td>\n      <td>0.0</td>\n      <td>0.0</td>\n      <td>0.0</td>\n      <td>1.0</td>\n      <td>0.0</td>\n      <td>1.0</td>\n      <td>0.0</td>\n      <td>0.0</td>\n    </tr>\n    <tr>\n      <th>4</th>\n      <td>70.0</td>\n      <td>0.0</td>\n      <td>0.0</td>\n      <td>0.0</td>\n      <td>0.0</td>\n      <td>1.0</td>\n      <td>0.0</td>\n      <td>0.0</td>\n      <td>0.0</td>\n      <td>0.0</td>\n      <td>...</td>\n      <td>70.000000</td>\n      <td>0.0</td>\n      <td>0.0</td>\n      <td>0.0</td>\n      <td>1.0</td>\n      <td>0.0</td>\n      <td>0.0</td>\n      <td>1.0</td>\n      <td>0.0</td>\n      <td>0.0</td>\n    </tr>\n    <tr>\n      <th>...</th>\n      <td>...</td>\n      <td>...</td>\n      <td>...</td>\n      <td>...</td>\n      <td>...</td>\n      <td>...</td>\n      <td>...</td>\n      <td>...</td>\n      <td>...</td>\n      <td>...</td>\n      <td>...</td>\n      <td>...</td>\n      <td>...</td>\n      <td>...</td>\n      <td>...</td>\n      <td>...</td>\n      <td>...</td>\n      <td>...</td>\n      <td>...</td>\n      <td>...</td>\n      <td>...</td>\n    </tr>\n    <tr>\n      <th>3767</th>\n      <td>30.0</td>\n      <td>0.0</td>\n      <td>0.0</td>\n      <td>0.0</td>\n      <td>0.0</td>\n      <td>0.0</td>\n      <td>0.0</td>\n      <td>0.0</td>\n      <td>1.0</td>\n      <td>0.0</td>\n      <td>...</td>\n      <td>110.272981</td>\n      <td>0.0</td>\n      <td>0.0</td>\n      <td>0.0</td>\n      <td>0.0</td>\n      <td>1.0</td>\n      <td>0.0</td>\n      <td>1.0</td>\n      <td>0.0</td>\n      <td>0.0</td>\n    </tr>\n    <tr>\n      <th>3768</th>\n      <td>68.0</td>\n      <td>0.0</td>\n      <td>0.0</td>\n      <td>0.0</td>\n      <td>0.0</td>\n      <td>1.0</td>\n      <td>0.0</td>\n      <td>0.0</td>\n      <td>0.0</td>\n      <td>0.0</td>\n      <td>...</td>\n      <td>114.000000</td>\n      <td>0.0</td>\n      <td>0.0</td>\n      <td>0.0</td>\n      <td>1.0</td>\n      <td>0.0</td>\n      <td>0.0</td>\n      <td>1.0</td>\n      <td>0.0</td>\n      <td>0.0</td>\n    </tr>\n    <tr>\n      <th>3769</th>\n      <td>74.0</td>\n      <td>0.0</td>\n      <td>0.0</td>\n      <td>0.0</td>\n      <td>0.0</td>\n      <td>1.0</td>\n      <td>0.0</td>\n      <td>0.0</td>\n      <td>0.0</td>\n      <td>0.0</td>\n      <td>...</td>\n      <td>105.000000</td>\n      <td>0.0</td>\n      <td>0.0</td>\n      <td>0.0</td>\n      <td>0.0</td>\n      <td>1.0</td>\n      <td>0.0</td>\n      <td>1.0</td>\n      <td>0.0</td>\n      <td>0.0</td>\n    </tr>\n    <tr>\n      <th>3770</th>\n      <td>72.0</td>\n      <td>1.0</td>\n      <td>0.0</td>\n      <td>0.0</td>\n      <td>0.0</td>\n      <td>1.0</td>\n      <td>0.0</td>\n      <td>0.0</td>\n      <td>0.0</td>\n      <td>0.0</td>\n      <td>...</td>\n      <td>87.000000</td>\n      <td>0.0</td>\n      <td>0.0</td>\n      <td>0.0</td>\n      <td>1.0</td>\n      <td>0.0</td>\n      <td>0.0</td>\n      <td>1.0</td>\n      <td>0.0</td>\n      <td>0.0</td>\n    </tr>\n    <tr>\n      <th>3771</th>\n      <td>64.0</td>\n      <td>0.0</td>\n      <td>0.0</td>\n      <td>0.0</td>\n      <td>0.0</td>\n      <td>1.0</td>\n      <td>0.0</td>\n      <td>0.0</td>\n      <td>0.0</td>\n      <td>0.0</td>\n      <td>...</td>\n      <td>92.000000</td>\n      <td>0.0</td>\n      <td>0.0</td>\n      <td>0.0</td>\n      <td>0.0</td>\n      <td>1.0</td>\n      <td>0.0</td>\n      <td>1.0</td>\n      <td>0.0</td>\n      <td>0.0</td>\n    </tr>\n  </tbody>\n</table>\n<p>3772 rows × 35 columns</p>\n</div>"
     },
     "execution_count": 19,
     "metadata": {},
     "output_type": "execute_result"
    }
   ],
   "source": [
    "df_cleaned"
   ],
   "metadata": {
    "collapsed": false
   }
  },
  {
   "cell_type": "code",
   "execution_count": 23,
   "outputs": [
    {
     "data": {
      "text/plain": "<Figure size 432x288 with 1 Axes>",
      "image/png": "[encoded data removed]"
     },
     "metadata": {
      "needs_background": "light"
     },
     "output_type": "display_data"
    },
    {
     "data": {
      "text/plain": "<Figure size 432x288 with 1 Axes>",
      "image/png": "[encoded data removed]"
     },
     "metadata": {
      "needs_background": "light"
     },
     "output_type": "display_data"
    },
    {
     "data": {
      "text/plain": "<Figure size 432x288 with 1 Axes>",
      "image/png": "[encoded data removed]"
     },
     "metadata": {
      "needs_background": "light"
     },
     "output_type": "display_data"
    },
    {
     "data": {
      "text/plain": "<Figure size 432x288 with 1 Axes>",
      "image/png": "[encoded data removed]"
     },
     "metadata": {
      "needs_background": "light"
     },
     "output_type": "display_data"
    },
    {
     "data": {
      "text/plain": "<Figure size 432x288 with 1 Axes>",
      "image/png": "[encoded data removed]"
     },
     "metadata": {
      "needs_background": "light"
     },
     "output_type": "display_data"
    },
    {
     "data": {
      "text/plain": "<Figure size 432x288 with 1 Axes>",
      "image/png": "[encoded data removed]"
     },
     "metadata": {
      "needs_background": "light"
     },
     "output_type": "display_data"
    }
   ],
   "source": [
    "import matplotlib.pyplot as plt\n",
    "import seaborn as sns\n",
    "import warnings\n",
    "warnings.filterwarnings('ignore')\n",
    "\n",
    "\n",
    "for col in df_cleaned.iloc[:, [0,21,22,23,24,25]].columns.values:\n",
    "    sns.boxplot(df_cleaned[col])\n",
    "    plt.show()"
   ],
   "metadata": {
    "collapsed": false
   }
  },
  {
   "cell_type": "code",
   "execution_count": 24,
   "outputs": [],
   "source": [
    "def remove_outliers(df, numericalColumns):\n",
    "    df1 = df.copy()\n",
    "    for col in numericalColumns:\n",
    "        Q1=df1[col].quantile(0.25)\n",
    "        Q3=df1[col].quantile(0.75)\n",
    "        IQR=Q3-Q1\n",
    "        lower=Q1-1.5*IQR\n",
    "        upper=Q3+1.5*IQR\n",
    "        df1[col][(df1[col]<lower)]=lower\n",
    "        df1[col][(df1[col]>upper)]=upper\n",
    "    return df1"
   ],
   "metadata": {
    "collapsed": false
   }
  },
  {
   "cell_type": "code",
   "execution_count": 28,
   "outputs": [
    {
     "name": "stdout",
     "output_type": "stream",
     "text": [
      "<class 'pandas.core.frame.DataFrame'>\n",
      "RangeIndex: 3772 entries, 0 to 3771\n",
      "Data columns (total 35 columns):\n",
      " #   Column                         Non-Null Count  Dtype  \n",
      "---  ------                         --------------  -----  \n",
      " 0   age                            3772 non-null   float64\n",
      " 1   sex                            3622 non-null   float64\n",
      " 2   on thyroxine                   3622 non-null   float64\n",
      " 3   query on thyroxine             3622 non-null   float64\n",
      " 4   on antithyroid medication      3622 non-null   float64\n",
      " 5   TSH measured                   3622 non-null   float64\n",
      " 6   psych                          3622 non-null   float64\n",
      " 7   hypopituitary                  3622 non-null   float64\n",
      " 8   tumor                          3622 non-null   float64\n",
      " 9   goitre                         3622 non-null   float64\n",
      " 10  lithium                        3622 non-null   float64\n",
      " 11  query hyperthyroid             3622 non-null   float64\n",
      " 12  query hypothyroid              3622 non-null   float64\n",
      " 13  I131 treatment                 3622 non-null   float64\n",
      " 14  thyroid surgery                3622 non-null   float64\n",
      " 15  pregnant                       3622 non-null   float64\n",
      " 16  sick                           3622 non-null   float64\n",
      " 17  T3 measured                    3622 non-null   float64\n",
      " 18  TT4 measured                   3622 non-null   float64\n",
      " 19  T4U measured                   3622 non-null   float64\n",
      " 20  FTI measured                   3622 non-null   float64\n",
      " 21  TSH                            3622 non-null   float64\n",
      " 22  T3                             3622 non-null   float64\n",
      " 23  TT4                            3622 non-null   float64\n",
      " 24  T4U                            3622 non-null   float64\n",
      " 25  FTI                            3622 non-null   float64\n",
      " 26  referral_source_STMW           3622 non-null   float64\n",
      " 27  referral_source_SVHC           3622 non-null   float64\n",
      " 28  referral_source_SVHD           3622 non-null   float64\n",
      " 29  referral_source_SVI            3622 non-null   float64\n",
      " 30  referral_source_other          3622 non-null   float64\n",
      " 31  Class_compensated_hypothyroid  3622 non-null   float64\n",
      " 32  Class_negative                 3622 non-null   float64\n",
      " 33  Class_primary_hypothyroid      3622 non-null   float64\n",
      " 34  Class_secondary_hypothyroid    3622 non-null   float64\n",
      "dtypes: float64(35)\n",
      "memory usage: 1.0 MB\n"
     ]
    }
   ],
   "source": [
    "df_cleaned = remove_outliers(df_cleaned, ['age','TSH','T3','TT4','T4U','FTI'])\n",
    "df_cleaned.info()"
   ],
   "metadata": {
    "collapsed": false
   }
  },
  {
   "cell_type": "code",
   "execution_count": 29,
   "outputs": [
    {
     "name": "stdout",
     "output_type": "stream",
     "text": [
      "<class 'pandas.core.frame.DataFrame'>\n",
      "Int64Index: 3622 entries, 0 to 3771\n",
      "Data columns (total 35 columns):\n",
      " #   Column                         Non-Null Count  Dtype  \n",
      "---  ------                         --------------  -----  \n",
      " 0   age                            3622 non-null   float64\n",
      " 1   sex                            3622 non-null   float64\n",
      " 2   on thyroxine                   3622 non-null   float64\n",
      " 3   query on thyroxine             3622 non-null   float64\n",
      " 4   on antithyroid medication      3622 non-null   float64\n",
      " 5   TSH measured                   3622 non-null   float64\n",
      " 6   psych                          3622 non-null   float64\n",
      " 7   hypopituitary                  3622 non-null   float64\n",
      " 8   tumor                          3622 non-null   float64\n",
      " 9   goitre                         3622 non-null   float64\n",
      " 10  lithium                        3622 non-null   float64\n",
      " 11  query hyperthyroid             3622 non-null   float64\n",
      " 12  query hypothyroid              3622 non-null   float64\n",
      " 13  I131 treatment                 3622 non-null   float64\n",
      " 14  thyroid surgery                3622 non-null   float64\n",
      " 15  pregnant                       3622 non-null   float64\n",
      " 16  sick                           3622 non-null   float64\n",
      " 17  T3 measured                    3622 non-null   float64\n",
      " 18  TT4 measured                   3622 non-null   float64\n",
      " 19  T4U measured                   3622 non-null   float64\n",
      " 20  FTI measured                   3622 non-null   float64\n",
      " 21  TSH                            3622 non-null   float64\n",
      " 22  T3                             3622 non-null   float64\n",
      " 23  TT4                            3622 non-null   float64\n",
      " 24  T4U                            3622 non-null   float64\n",
      " 25  FTI                            3622 non-null   float64\n",
      " 26  referral_source_STMW           3622 non-null   float64\n",
      " 27  referral_source_SVHC           3622 non-null   float64\n",
      " 28  referral_source_SVHD           3622 non-null   float64\n",
      " 29  referral_source_SVI            3622 non-null   float64\n",
      " 30  referral_source_other          3622 non-null   float64\n",
      " 31  Class_compensated_hypothyroid  3622 non-null   float64\n",
      " 32  Class_negative                 3622 non-null   float64\n",
      " 33  Class_primary_hypothyroid      3622 non-null   float64\n",
      " 34  Class_secondary_hypothyroid    3622 non-null   float64\n",
      "dtypes: float64(35)\n",
      "memory usage: 1018.7 KB\n"
     ]
    }
   ],
   "source": [
    "df_cleaned = df_cleaned.dropna()\n",
    "df_cleaned.info()"
   ],
   "metadata": {
    "collapsed": false
   }
  },
  {
   "cell_type": "code",
   "execution_count": 30,
   "outputs": [],
   "source": [
    "df_cleaned.to_csv('data/cleaned_data.csv', index=False)"
   ],
   "metadata": {
    "collapsed": false
   }
  },
  {
   "cell_type": "code",
   "execution_count": null,
   "outputs": [],
   "source": [],
   "metadata": {
    "collapsed": false
   }
  }
 ],
 "metadata": {
  "kernelspec": {
   "display_name": "Python 3",
   "language": "python",
   "name": "python3"
  },
  "language_info": {
   "codemirror_mode": {
    "name": "ipython",
    "version": 2
   },
   "file_extension": ".py",
   "mimetype": "text/x-python",
   "name": "python",
   "nbconvert_exporter": "python",
   "pygments_lexer": "ipython2",
   "version": "2.7.6"
  }
 },
 "nbformat": 4,
 "nbformat_minor": 0
}
