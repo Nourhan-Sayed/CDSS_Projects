{
 "cells": [
  {
   "attachments": {},
   "cell_type": "markdown",
   "metadata": {},
   "source": [
    "# Diagnosis of Diabetes using classification mining techniques\n",
    "This project aims to test out different classifiers when it comes to the diabetes data\n",
    " 1. [Link for paper](https://www.aircconline.com/ijdkp/V5N1/5115ijdkp01.pdf)\n",
    " 2. [Link for dataset](https://www.kaggle.com/datasets/nancyalaswad90/review/versions/5?resource=download)"
   ]
  },
  {
   "attachments": {},
   "cell_type": "markdown",
   "metadata": {},
   "source": [
    "# EDA and visualization"
   ]
  },
  {
   "cell_type": "code",
   "execution_count": 38,
   "metadata": {},
   "outputs": [],
   "source": [
    "# importing useful libraries (pandas, numpy, matplotlib, seaborn, sklearn)\n",
    "import pandas as pd\n",
    "import numpy as np\n",
    "import matplotlib.pyplot as plt\n",
    "import seaborn as sns\n",
    "from six import StringIO\n",
    "from IPython.display import Image  \n",
    "from sklearn.tree import export_graphviz\n",
    "import pydotplus\n",
    "from statistics import mean \n",
    "# importing some parts of sklearn for machine learning tools\n",
    "from sklearn.metrics import (\n",
    "    accuracy_score,\n",
    "    confusion_matrix,\n",
    "    ConfusionMatrixDisplay,\n",
    "    f1_score,\n",
    ")\n",
    "from sklearn.naive_bayes import GaussianNB\n",
    "from sklearn.model_selection import KFold, cross_val_score\n",
    "from sklearn.model_selection import train_test_split\n",
    "from sklearn.metrics import confusion_matrix\n",
    "from sklearn.tree import DecisionTreeClassifier # Import Decision Tree Classifier\n",
    "from sklearn.linear_model import LogisticRegression\n",
    "from sklearn.ensemble import RandomForestClassifier\n",
    "from sklearn.metrics import classification_report\n",
    "from sklearn.metrics import plot_confusion_matrix\n",
    "\n"
   ]
  },
  {
   "attachments": {},
   "cell_type": "markdown",
   "metadata": {},
   "source": [
    "The data contains no null values, is properly cast into either int or float.\n",
    "\n",
    "`describe()` outputs some indicators for each column (mean,std,etc)\n",
    "\n",
    "`info()` provides basic insight for number of records, number of non-null record, datatypes, etc.\n",
    "\n",
    "`head()` shows the first 5 rows of the dataframe"
   ]
  },
  {
   "cell_type": "code",
   "execution_count": 4,
   "metadata": {},
   "outputs": [
    {
     "data": {
      "text/html": [
       "<div>\n",
       "<style scoped>\n",
       "    .dataframe tbody tr th:only-of-type {\n",
       "        vertical-align: middle;\n",
       "    }\n",
       "\n",
       "    .dataframe tbody tr th {\n",
       "        vertical-align: top;\n",
       "    }\n",
       "\n",
       "    .dataframe thead th {\n",
       "        text-align: right;\n",
       "    }\n",
       "</style>\n",
       "<table border=\"1\" class=\"dataframe\">\n",
       "  <thead>\n",
       "    <tr style=\"text-align: right;\">\n",
       "      <th></th>\n",
       "      <th>Pregnancies</th>\n",
       "      <th>Glucose</th>\n",
       "      <th>BloodPressure</th>\n",
       "      <th>SkinThickness</th>\n",
       "      <th>Insulin</th>\n",
       "      <th>BMI</th>\n",
       "      <th>DiabetesPedigreeFunction</th>\n",
       "      <th>Age</th>\n",
       "      <th>Outcome</th>\n",
       "    </tr>\n",
       "  </thead>\n",
       "  <tbody>\n",
       "    <tr>\n",
       "      <th>0</th>\n",
       "      <td>6</td>\n",
       "      <td>148</td>\n",
       "      <td>72</td>\n",
       "      <td>35</td>\n",
       "      <td>0</td>\n",
       "      <td>33.6</td>\n",
       "      <td>0.627</td>\n",
       "      <td>50</td>\n",
       "      <td>1</td>\n",
       "    </tr>\n",
       "    <tr>\n",
       "      <th>1</th>\n",
       "      <td>1</td>\n",
       "      <td>85</td>\n",
       "      <td>66</td>\n",
       "      <td>29</td>\n",
       "      <td>0</td>\n",
       "      <td>26.6</td>\n",
       "      <td>0.351</td>\n",
       "      <td>31</td>\n",
       "      <td>0</td>\n",
       "    </tr>\n",
       "    <tr>\n",
       "      <th>2</th>\n",
       "      <td>8</td>\n",
       "      <td>183</td>\n",
       "      <td>64</td>\n",
       "      <td>0</td>\n",
       "      <td>0</td>\n",
       "      <td>23.3</td>\n",
       "      <td>0.672</td>\n",
       "      <td>32</td>\n",
       "      <td>1</td>\n",
       "    </tr>\n",
       "    <tr>\n",
       "      <th>3</th>\n",
       "      <td>1</td>\n",
       "      <td>89</td>\n",
       "      <td>66</td>\n",
       "      <td>23</td>\n",
       "      <td>94</td>\n",
       "      <td>28.1</td>\n",
       "      <td>0.167</td>\n",
       "      <td>21</td>\n",
       "      <td>0</td>\n",
       "    </tr>\n",
       "    <tr>\n",
       "      <th>4</th>\n",
       "      <td>0</td>\n",
       "      <td>137</td>\n",
       "      <td>40</td>\n",
       "      <td>35</td>\n",
       "      <td>168</td>\n",
       "      <td>43.1</td>\n",
       "      <td>2.288</td>\n",
       "      <td>33</td>\n",
       "      <td>1</td>\n",
       "    </tr>\n",
       "  </tbody>\n",
       "</table>\n",
       "</div>"
      ],
      "text/plain": [
       "   Pregnancies  Glucose  BloodPressure  SkinThickness  Insulin   BMI  \\\n",
       "0            6      148             72             35        0  33.6   \n",
       "1            1       85             66             29        0  26.6   \n",
       "2            8      183             64              0        0  23.3   \n",
       "3            1       89             66             23       94  28.1   \n",
       "4            0      137             40             35      168  43.1   \n",
       "\n",
       "   DiabetesPedigreeFunction  Age  Outcome  \n",
       "0                     0.627   50        1  \n",
       "1                     0.351   31        0  \n",
       "2                     0.672   32        1  \n",
       "3                     0.167   21        0  \n",
       "4                     2.288   33        1  "
      ]
     },
     "execution_count": 4,
     "metadata": {},
     "output_type": "execute_result"
    }
   ],
   "source": [
    "# Importing the dataset, creating the dataframe and exploring it\n",
    "df = pd.read_csv('diabetes.csv')\n",
    "# df.describe()\n",
    "# df.info()\n",
    "df.head()"
   ]
  },
  {
   "cell_type": "code",
   "execution_count": 5,
   "metadata": {},
   "outputs": [
    {
     "data": {
      "image/png": "[encoded data removed]",
      "text/plain": [
       "<Figure size 1080x720 with 9 Axes>"
      ]
     },
     "metadata": {
      "needs_background": "light"
     },
     "output_type": "display_data"
    }
   ],
   "source": [
    "# Visualizing data distribution for each feature\n",
    "df.hist(bins=30, figsize=(15, 10))\n",
    "plt.show()"
   ]
  },
  {
   "attachments": {},
   "cell_type": "markdown",
   "metadata": {},
   "source": [
    "# Defining functions for later use"
   ]
  },
  {
   "cell_type": "code",
   "execution_count": 7,
   "metadata": {},
   "outputs": [],
   "source": [
    "# Plot Confusion Matrix and include accuracy and F1 score\n",
    "def plot_confusion_matrix(y_test, y_pred, classes, normalize=False, title=None, cmap=plt.cm.Blues):\n",
    "    mat = confusion_matrix(y_pred, y_test)\n",
    "    names = np.unique(y_pred)\n",
    "    sns.heatmap(mat, square=True, annot=True, fmt='d', cbar=False,\n",
    "                xticklabels=names, yticklabels=names)\n",
    "    plt.xlabel('Truth')\n",
    "    plt.ylabel('Predicted')\n",
    "    accuracy = accuracy_score(y_pred, y_test)\n",
    "    f1 = f1_score(y_pred, y_test, average=\"weighted\")\n",
    "\n",
    "    print(\"Accuracy:\", accuracy)\n",
    "    print(\"F1 Score:\", f1)"
   ]
  },
  {
   "attachments": {},
   "cell_type": "markdown",
   "metadata": {},
   "source": [
    "# Following paper methodologies\n",
    "## Classifiers used: \n",
    "1. Naive Bayes \n",
    "2. Decision tree\n",
    "\n",
    "## Training methods:\n",
    "1. Using a 70:30 train test split \n",
    "3. 10-fold cross validation"
   ]
  },
  {
   "attachments": {},
   "cell_type": "markdown",
   "metadata": {},
   "source": [
    "# Naive Bayes Classifier (Gaussian) results\n",
    "As shown below, with a train test split of 70/30 we get an accuracy of about 78.7%, compared to the paper's 79.5% accuracy, not bad."
   ]
  },
  {
   "cell_type": "code",
   "execution_count": 6,
   "metadata": {},
   "outputs": [
    {
     "ename": "NameError",
     "evalue": "name 'plot_confusion_matrix' is not defined",
     "output_type": "error",
     "traceback": [
      "\u001b[1;31m---------------------------------------------------------------------------\u001b[0m",
      "\u001b[1;31mNameError\u001b[0m                                 Traceback (most recent call last)",
      "\u001b[1;32mc:\\Users\\hazem\\Documents\\Clinical-Decesion-Support-System-Course\\Project1\\Notebook.ipynb Cell 11\u001b[0m in \u001b[0;36m<cell line: 15>\u001b[1;34m()\u001b[0m\n\u001b[0;32m     <a href='vscode-notebook-cell:/c%3A/Users/hazem/Documents/Clinical-Decesion-Support-System-Course/Project1/Notebook.ipynb#X52sZmlsZQ%3D%3D?line=12'>13</a>\u001b[0m y_pred \u001b[39m=\u001b[39m model\u001b[39m.\u001b[39mpredict(x_test) \n\u001b[0;32m     <a href='vscode-notebook-cell:/c%3A/Users/hazem/Documents/Clinical-Decesion-Support-System-Course/Project1/Notebook.ipynb#X52sZmlsZQ%3D%3D?line=13'>14</a>\u001b[0m \u001b[39m# Plot Confusion Matrix\u001b[39;00m\n\u001b[1;32m---> <a href='vscode-notebook-cell:/c%3A/Users/hazem/Documents/Clinical-Decesion-Support-System-Course/Project1/Notebook.ipynb#X52sZmlsZQ%3D%3D?line=14'>15</a>\u001b[0m plot_confusion_matrix(y_test, y_pred, classes\u001b[39m=\u001b[39m[\u001b[39m'\u001b[39m\u001b[39m0\u001b[39m\u001b[39m'\u001b[39m, \u001b[39m'\u001b[39m\u001b[39m1\u001b[39m\u001b[39m'\u001b[39m], normalize\u001b[39m=\u001b[39m\u001b[39mFalse\u001b[39;00m, title\u001b[39m=\u001b[39m\u001b[39m'\u001b[39m\u001b[39mConfusion matrix\u001b[39m\u001b[39m'\u001b[39m)\n",
      "\u001b[1;31mNameError\u001b[0m: name 'plot_confusion_matrix' is not defined"
     ]
    }
   ],
   "source": [
    "#first we split the data into features and label\n",
    "Y = df['Outcome'] #label\n",
    "X = df.drop('Outcome', axis=1) #features\n",
    "# Then we need to split data set into train and test sets\n",
    "x_train, x_test, y_train, y_test = train_test_split(X, Y, \n",
    "                                                    test_size=0.3, \n",
    "                                                    random_state=4, shuffle=True)\n",
    "# Init the Gaussian Classifier (data)\n",
    "model = GaussianNB()\n",
    "# Train the model \n",
    "model.fit(x_train, y_train)\n",
    "# Predict Output \n",
    "y_pred = model.predict(x_test) \n",
    "# Plot Confusion Matrix\n",
    "plot_confusion_matrix(y_test, y_pred, classes=['0', '1'], normalize=False, title='Confusion matrix') "
   ]
  },
  {
   "attachments": {},
   "cell_type": "markdown",
   "metadata": {},
   "source": [
    "## Now let's try again but with an 80/20 test split\n",
    "As shown, we get a higher accuracy (probably due to the increased training data size)."
   ]
  },
  {
   "cell_type": "code",
   "execution_count": 9,
   "metadata": {},
   "outputs": [
    {
     "name": "stdout",
     "output_type": "stream",
     "text": [
      "Accuracy: 0.7922077922077922\n",
      "F1 Score: 0.7949190462951929\n"
     ]
    },
    {
     "data": {
      "image/png": "[encoded data removed]",
      "text/plain": [
       "<Figure size 432x288 with 1 Axes>"
      ]
     },
     "metadata": {
      "needs_background": "light"
     },
     "output_type": "display_data"
    }
   ],
   "source": [
    "#first we split the data into features and label\n",
    "Y = df['Outcome'] #label\n",
    "X = df.drop('Outcome', axis=1) #features\n",
    "# Then we need to split data set into train and test sets\n",
    "x_train, x_test, y_train, y_test = train_test_split(X, Y, \n",
    "                                                    test_size=0.2, \n",
    "                                                    random_state=0, shuffle=True)\n",
    "# Init the Gaussian Classifier (data)\n",
    "model = GaussianNB()\n",
    "# Train the model \n",
    "model.fit(x_train, y_train)\n",
    "# Predict Output \n",
    "y_pred = model.predict(x_test)  \n",
    "# Plot Confusion Matrix\n",
    "plot_confusion_matrix(y_test, y_pred, classes=['0', '1'], normalize=False, title='Confusion matrix')"
   ]
  },
  {
   "attachments": {},
   "cell_type": "markdown",
   "metadata": {},
   "source": [
    "# Using 10-fold cross validation\n",
    "We get a mean accruacy of 74.86%.\n",
    "Note: this part was not included in the paper, but is added here for demonstration purposes"
   ]
  },
  {
   "cell_type": "code",
   "execution_count": 10,
   "metadata": {},
   "outputs": [
    {
     "name": "stdout",
     "output_type": "stream",
     "text": [
      "Fold 1 Accuracy: 80.519%\n",
      "Fold 2 Accuracy: 76.623%\n",
      "Fold 3 Accuracy: 71.429%\n",
      "Fold 4 Accuracy: 71.429%\n",
      "Fold 5 Accuracy: 71.429%\n",
      "Fold 6 Accuracy: 72.727%\n",
      "Fold 7 Accuracy: 85.714%\n",
      "Fold 8 Accuracy: 74.026%\n",
      "Fold 9 Accuracy: 67.105%\n",
      "Fold 10 Accuracy: 77.632%\n",
      "Average Accuracy: 74.8632946001367%\n"
     ]
    }
   ],
   "source": [
    "k_fold = KFold(n_splits=10, shuffle=True, random_state=0)\n",
    "scores = cross_val_score(model, X, Y, cv=k_fold, n_jobs=1)\n",
    "for i in range(len(scores)):\n",
    "    score = '%.3f'%(scores[i]*100)\n",
    "    print(\"Fold {i} Accuracy: {score}%\".format(i=i+1, score=score))\n",
    "    \n",
    "print(\"Average Accuracy: {score}%\".format(score=scores.mean()*100))"
   ]
  },
  {
   "attachments": {},
   "cell_type": "markdown",
   "metadata": {},
   "source": [
    "# Decision tree Classifier results"
   ]
  },
  {
   "attachments": {},
   "cell_type": "markdown",
   "metadata": {},
   "source": [
    "## using train test split of 70/30 \n",
    "As shown below, with a train test split of 70/30 we get an accuracy of about 77%, compared to the paper's 76.96% accuracy, which are pretty close results."
   ]
  },
  {
   "cell_type": "code",
   "execution_count": 11,
   "metadata": {},
   "outputs": [
    {
     "name": "stdout",
     "output_type": "stream",
     "text": [
      "Accuracy: 0.7705627705627706\n",
      "F1 Score: 0.7735454876867559\n"
     ]
    },
    {
     "data": {
      "image/png": "[encoded data removed]",
      "text/plain": [
       "<Figure size 432x288 with 1 Axes>"
      ]
     },
     "metadata": {
      "needs_background": "light"
     },
     "output_type": "display_data"
    }
   ],
   "source": [
    "#first we split the data into features and label\n",
    "Y = df['Outcome'] #label\n",
    "X = df.drop('Outcome', axis=1) #features\n",
    "# Then we need to split data set into train and test sets\n",
    "x_train, x_test, y_train, y_test = train_test_split(X, Y, test_size=0.3, random_state=1)\n",
    "\n",
    "\n",
    "# Create Decision Tree classifer object\n",
    "tree = DecisionTreeClassifier(criterion=\"entropy\", splitter=\"best\",max_depth=3)\n",
    "\n",
    "# Train Decision Tree Classifer\n",
    "tree = tree.fit(x_train,y_train)\n",
    "\n",
    "#Predict the response for test dataset\n",
    "y_pred = tree.predict(x_test)\n",
    "\n",
    "# Plot Confusion Matrix\n",
    "plot_confusion_matrix(y_test, y_pred, classes=['0', '1'], normalize=False, title='Confusion matrix')"
   ]
  },
  {
   "attachments": {},
   "cell_type": "markdown",
   "metadata": {},
   "source": [
    "## using 10-fold cross validation\n",
    "As shown below, the mean accuracy is about 74.47%, compared to the paper's 74.87% accuracy, which are pretty close results as well."
   ]
  },
  {
   "cell_type": "code",
   "execution_count": 12,
   "metadata": {},
   "outputs": [
    {
     "name": "stdout",
     "output_type": "stream",
     "text": [
      "Fold 1 Accuracy: 79.221%\n",
      "Fold 2 Accuracy: 64.935%\n",
      "Fold 3 Accuracy: 72.727%\n",
      "Fold 4 Accuracy: 71.429%\n",
      "Fold 5 Accuracy: 76.623%\n",
      "Fold 6 Accuracy: 77.922%\n",
      "Fold 7 Accuracy: 81.818%\n",
      "Fold 8 Accuracy: 72.727%\n",
      "Fold 9 Accuracy: 68.421%\n",
      "Fold 10 Accuracy: 78.947%\n",
      "Average Accuracy: 74.4771018455229%\n"
     ]
    }
   ],
   "source": [
    "k_fold = KFold(n_splits=10, shuffle=True, random_state=0)\n",
    "scores = cross_val_score(tree, X, Y, cv=k_fold, n_jobs=1)\n",
    "for i in range(len(scores)):\n",
    "    score = '%.3f'%(scores[i]*100)\n",
    "    print(\"Fold {i} Accuracy: {score}%\".format(i=i+1, score=score))\n",
    "    \n",
    "print(\"Average Accuracy: {score}%\".format(score=scores.mean()*100))"
   ]
  },
  {
   "attachments": {},
   "cell_type": "markdown",
   "metadata": {},
   "source": [
    "## Visualizing the Decision Tree"
   ]
  },
  {
   "cell_type": "code",
   "execution_count": 14,
   "metadata": {},
   "outputs": [
    {
     "ename": "InvocationException",
     "evalue": "GraphViz's executables not found",
     "output_type": "error",
     "traceback": [
      "\u001b[1;31m---------------------------------------------------------------------------\u001b[0m",
      "\u001b[1;31mInvocationException\u001b[0m                       Traceback (most recent call last)",
      "\u001b[1;32mc:\\Users\\hazem\\Documents\\Clinical-Decesion-Support-System-Course\\Project1\\Notebook.ipynb Cell 22\u001b[0m in \u001b[0;36m<cell line: 8>\u001b[1;34m()\u001b[0m\n\u001b[0;32m      <a href='vscode-notebook-cell:/c%3A/Users/hazem/Documents/Clinical-Decesion-Support-System-Course/Project1/Notebook.ipynb#X30sZmlsZQ%3D%3D?line=3'>4</a>\u001b[0m export_graphviz(tree, out_file\u001b[39m=\u001b[39mdot_data,  \n\u001b[0;32m      <a href='vscode-notebook-cell:/c%3A/Users/hazem/Documents/Clinical-Decesion-Support-System-Course/Project1/Notebook.ipynb#X30sZmlsZQ%3D%3D?line=4'>5</a>\u001b[0m                 filled\u001b[39m=\u001b[39m\u001b[39mTrue\u001b[39;00m, rounded\u001b[39m=\u001b[39m\u001b[39mTrue\u001b[39;00m,\n\u001b[0;32m      <a href='vscode-notebook-cell:/c%3A/Users/hazem/Documents/Clinical-Decesion-Support-System-Course/Project1/Notebook.ipynb#X30sZmlsZQ%3D%3D?line=5'>6</a>\u001b[0m                 special_characters\u001b[39m=\u001b[39m\u001b[39mTrue\u001b[39;00m,feature_names\u001b[39m=\u001b[39mfeature_cols,class_names\u001b[39m=\u001b[39m[\u001b[39m'\u001b[39m\u001b[39m0\u001b[39m\u001b[39m'\u001b[39m,\u001b[39m'\u001b[39m\u001b[39m1\u001b[39m\u001b[39m'\u001b[39m])\n\u001b[0;32m      <a href='vscode-notebook-cell:/c%3A/Users/hazem/Documents/Clinical-Decesion-Support-System-Course/Project1/Notebook.ipynb#X30sZmlsZQ%3D%3D?line=6'>7</a>\u001b[0m graph \u001b[39m=\u001b[39m pydotplus\u001b[39m.\u001b[39mgraph_from_dot_data(dot_data\u001b[39m.\u001b[39mgetvalue())  \n\u001b[1;32m----> <a href='vscode-notebook-cell:/c%3A/Users/hazem/Documents/Clinical-Decesion-Support-System-Course/Project1/Notebook.ipynb#X30sZmlsZQ%3D%3D?line=7'>8</a>\u001b[0m graph\u001b[39m.\u001b[39;49mwrite_png(\u001b[39m'\u001b[39;49m\u001b[39mdiabetesPredictionTree.png\u001b[39;49m\u001b[39m'\u001b[39;49m)\n\u001b[0;32m      <a href='vscode-notebook-cell:/c%3A/Users/hazem/Documents/Clinical-Decesion-Support-System-Course/Project1/Notebook.ipynb#X30sZmlsZQ%3D%3D?line=8'>9</a>\u001b[0m Image(graph\u001b[39m.\u001b[39mcreate_png())\n",
      "File \u001b[1;32m~\\AppData\\Roaming\\Python\\Python310\\site-packages\\pydotplus\\graphviz.py:1810\u001b[0m, in \u001b[0;36mDot.__init__.<locals>.<lambda>\u001b[1;34m(path, f, prog)\u001b[0m\n\u001b[0;32m   1800\u001b[0m     f\u001b[39m.\u001b[39m\u001b[39m__doc__\u001b[39m \u001b[39m=\u001b[39m (\n\u001b[0;32m   1801\u001b[0m         \u001b[39m'''Refer to the docstring accompanying the'''\u001b[39;00m\n\u001b[0;32m   1802\u001b[0m         \u001b[39m''''create' method for more information.'''\u001b[39;00m\n\u001b[0;32m   1803\u001b[0m     )\n\u001b[0;32m   1805\u001b[0m \u001b[39mfor\u001b[39;00m frmt \u001b[39min\u001b[39;00m \u001b[39mself\u001b[39m\u001b[39m.\u001b[39mformats \u001b[39m+\u001b[39m [\u001b[39m'\u001b[39m\u001b[39mraw\u001b[39m\u001b[39m'\u001b[39m]:\n\u001b[0;32m   1806\u001b[0m     \u001b[39mself\u001b[39m\u001b[39m.\u001b[39m\u001b[39m__setattr__\u001b[39m(\n\u001b[0;32m   1807\u001b[0m         \u001b[39m'\u001b[39m\u001b[39mwrite_\u001b[39m\u001b[39m'\u001b[39m \u001b[39m+\u001b[39m frmt,\n\u001b[0;32m   1808\u001b[0m         \u001b[39mlambda\u001b[39;00m path,\n\u001b[0;32m   1809\u001b[0m         f\u001b[39m=\u001b[39mfrmt,\n\u001b[1;32m-> 1810\u001b[0m         prog\u001b[39m=\u001b[39m\u001b[39mself\u001b[39m\u001b[39m.\u001b[39mprog: \u001b[39mself\u001b[39;49m\u001b[39m.\u001b[39;49mwrite(path, \u001b[39mformat\u001b[39;49m\u001b[39m=\u001b[39;49mf, prog\u001b[39m=\u001b[39;49mprog)\n\u001b[0;32m   1811\u001b[0m     )\n\u001b[0;32m   1813\u001b[0m     f \u001b[39m=\u001b[39m \u001b[39mself\u001b[39m\u001b[39m.\u001b[39m\u001b[39m__dict__\u001b[39m[\u001b[39m'\u001b[39m\u001b[39mwrite_\u001b[39m\u001b[39m'\u001b[39m \u001b[39m+\u001b[39m frmt]\n\u001b[0;32m   1814\u001b[0m     f\u001b[39m.\u001b[39m\u001b[39m__doc__\u001b[39m \u001b[39m=\u001b[39m (\n\u001b[0;32m   1815\u001b[0m         \u001b[39m'''Refer to the docstring accompanying the'''\u001b[39;00m\n\u001b[0;32m   1816\u001b[0m         \u001b[39m''''write' method for more information.'''\u001b[39;00m\n\u001b[0;32m   1817\u001b[0m     )\n",
      "File \u001b[1;32m~\\AppData\\Roaming\\Python\\Python310\\site-packages\\pydotplus\\graphviz.py:1918\u001b[0m, in \u001b[0;36mDot.write\u001b[1;34m(self, path, prog, format)\u001b[0m\n\u001b[0;32m   1915\u001b[0m         fobj\u001b[39m.\u001b[39mwrite(data)\n\u001b[0;32m   1917\u001b[0m     \u001b[39melse\u001b[39;00m:\n\u001b[1;32m-> 1918\u001b[0m         fobj\u001b[39m.\u001b[39mwrite(\u001b[39mself\u001b[39;49m\u001b[39m.\u001b[39;49mcreate(prog, \u001b[39mformat\u001b[39;49m))\n\u001b[0;32m   1919\u001b[0m \u001b[39mfinally\u001b[39;00m:\n\u001b[0;32m   1920\u001b[0m     \u001b[39mif\u001b[39;00m close:\n",
      "File \u001b[1;32m~\\AppData\\Roaming\\Python\\Python310\\site-packages\\pydotplus\\graphviz.py:1959\u001b[0m, in \u001b[0;36mDot.create\u001b[1;34m(self, prog, format)\u001b[0m\n\u001b[0;32m   1957\u001b[0m     \u001b[39mself\u001b[39m\u001b[39m.\u001b[39mprogs \u001b[39m=\u001b[39m find_graphviz()\n\u001b[0;32m   1958\u001b[0m     \u001b[39mif\u001b[39;00m \u001b[39mself\u001b[39m\u001b[39m.\u001b[39mprogs \u001b[39mis\u001b[39;00m \u001b[39mNone\u001b[39;00m:\n\u001b[1;32m-> 1959\u001b[0m         \u001b[39mraise\u001b[39;00m InvocationException(\n\u001b[0;32m   1960\u001b[0m             \u001b[39m'\u001b[39m\u001b[39mGraphViz\u001b[39m\u001b[39m\\'\u001b[39;00m\u001b[39ms executables not found\u001b[39m\u001b[39m'\u001b[39m)\n\u001b[0;32m   1962\u001b[0m \u001b[39mif\u001b[39;00m prog \u001b[39mnot\u001b[39;00m \u001b[39min\u001b[39;00m \u001b[39mself\u001b[39m\u001b[39m.\u001b[39mprogs:\n\u001b[0;32m   1963\u001b[0m     \u001b[39mraise\u001b[39;00m InvocationException(\n\u001b[0;32m   1964\u001b[0m         \u001b[39m'\u001b[39m\u001b[39mGraphViz\u001b[39m\u001b[39m\\'\u001b[39;00m\u001b[39ms executable \u001b[39m\u001b[39m\"\u001b[39m\u001b[39m%s\u001b[39;00m\u001b[39m\"\u001b[39m\u001b[39m not found\u001b[39m\u001b[39m'\u001b[39m \u001b[39m%\u001b[39m prog)\n",
      "\u001b[1;31mInvocationException\u001b[0m: GraphViz's executables not found"
     ]
    }
   ],
   "source": [
    "#Visualizing the Decision Tree\n",
    "feature_cols = ['Pregnancies','Glucose','BloodPressure','SkinThickness','Insulin','BMI','DiabetesPedigreeFunction','Age']\n",
    "dot_data = StringIO()\n",
    "export_graphviz(tree, out_file=dot_data,  \n",
    "                filled=True, rounded=True,\n",
    "                special_characters=True,feature_names=feature_cols,class_names=['0','1'])\n",
    "graph = pydotplus.graph_from_dot_data(dot_data.getvalue())  \n",
    "graph.write_png('diabetesPredictionTree.png')\n",
    "Image(graph.create_png())"
   ]
  },
  {
   "attachments": {},
   "cell_type": "markdown",
   "metadata": {},
   "source": [
    "# Random Forest Classifier results"
   ]
  },
  {
   "attachments": {},
   "cell_type": "markdown",
   "metadata": {},
   "source": [
    "## using train test split of 70/30 \n"
   ]
  },
  {
   "cell_type": "code",
   "execution_count": 40,
   "metadata": {},
   "outputs": [
    {
     "name": "stdout",
     "output_type": "stream",
     "text": [
      "total error = 21.21212121212121\n",
      "              precision    recall  f1-score   support\n",
      "\n",
      "           0       0.79      0.90      0.84       146\n",
      "           1       0.77      0.60      0.68        85\n",
      "\n",
      "    accuracy                           0.79       231\n",
      "   macro avg       0.78      0.75      0.76       231\n",
      "weighted avg       0.79      0.79      0.78       231\n",
      "\n"
     ]
    }
   ],
   "source": [
    "#first we split the data into features and label\n",
    "Y = df['Outcome'] #label\n",
    "X = df.drop('Outcome', axis=1) #features\n",
    "# Then we need to split data set into train and test sets\n",
    "x_train, x_test, y_train, y_test = train_test_split(X, Y, test_size=0.3, random_state=1)\n",
    "\n",
    "#create a random forest object\n",
    "rf= RandomForestClassifier(n_estimators=1000)\n",
    "\n",
    "#train the model and fit the model \n",
    "rf.fit(x_train, y_train)\n",
    "\n",
    "#predict the model's response\n",
    "RFpredictions = rf.predict(x_test)\n",
    "\n",
    "# calculate the error for each cell, then the average absolte percentage error\n",
    "errors = abs(RFpredictions - y_test)\n",
    "all_error_percentage= mean(errors)*100\n",
    "\n",
    "#print the results\n",
    "print(\"total error =\",all_error_percentage )\n",
    "print(classification_report(y_test,RFpredictions))\n",
    "\n",
    "# plot_confusion_matrix(y_test, RFpredictions, classes=['0', '1'], normalize=False, title='Confusion matrix')"
   ]
  },
  {
   "attachments": {},
   "cell_type": "markdown",
   "metadata": {},
   "source": [
    "# Logistic regression Classifier results"
   ]
  },
  {
   "attachments": {},
   "cell_type": "markdown",
   "metadata": {},
   "source": [
    "## using train test split of 70/30 \n"
   ]
  },
  {
   "cell_type": "code",
   "execution_count": 43,
   "metadata": {},
   "outputs": [
    {
     "name": "stdout",
     "output_type": "stream",
     "text": [
      "0.7835497835497836\n"
     ]
    }
   ],
   "source": [
    "#first we split the data into features and label\n",
    "Y = df['Outcome'] #label\n",
    "X = df.drop('Outcome', axis=1) #features\n",
    "# Then we need to split data set into train and test sets\n",
    "x_train, x_test, y_train, y_test = train_test_split(X, Y, test_size=0.3, random_state=1)\n",
    "\n",
    "\n",
    "# Create Logistic Regression classifer object\n",
    "logisticReg = LogisticRegression()\n",
    "\n",
    "# Train logistic Classifer\n",
    "logisticReg.fit(x_train, y_train)\n",
    "\n",
    "#Predict the response for test dataset\n",
    "logisticRegPredictions = logisticReg.predict(x_test)\n",
    "\n",
    "#score \n",
    "score=logisticReg.score(x_test, y_test)\n",
    "print(score)\n",
    "\n",
    "# Plot Confusion Matrix\n",
    "# plot_confusion_matrix(y_test, logisticRegPredictions, classes=['0', '1'], normalize=False, title='Confusion matrix')\n"
   ]
  },
  {
   "attachments": {},
   "cell_type": "markdown",
   "metadata": {},
   "source": [
    "## using 10-fold cross validation"
   ]
  },
  {
   "cell_type": "code",
   "execution_count": 23,
   "metadata": {},
   "outputs": [
    {
     "name": "stderr",
     "output_type": "stream",
     "text": [
      "C:\\Users\\hazem\\AppData\\Roaming\\Python\\Python310\\site-packages\\sklearn\\linear_model\\_logistic.py:444: ConvergenceWarning: lbfgs failed to converge (status=1):\n",
      "STOP: TOTAL NO. of ITERATIONS REACHED LIMIT.\n",
      "\n",
      "Increase the number of iterations (max_iter) or scale the data as shown in:\n",
      "    https://scikit-learn.org/stable/modules/preprocessing.html\n",
      "Please also refer to the documentation for alternative solver options:\n",
      "    https://scikit-learn.org/stable/modules/linear_model.html#logistic-regression\n",
      "  n_iter_i = _check_optimize_result(\n",
      "C:\\Users\\hazem\\AppData\\Roaming\\Python\\Python310\\site-packages\\sklearn\\linear_model\\_logistic.py:444: ConvergenceWarning: lbfgs failed to converge (status=1):\n",
      "STOP: TOTAL NO. of ITERATIONS REACHED LIMIT.\n",
      "\n",
      "Increase the number of iterations (max_iter) or scale the data as shown in:\n",
      "    https://scikit-learn.org/stable/modules/preprocessing.html\n",
      "Please also refer to the documentation for alternative solver options:\n",
      "    https://scikit-learn.org/stable/modules/linear_model.html#logistic-regression\n",
      "  n_iter_i = _check_optimize_result(\n",
      "C:\\Users\\hazem\\AppData\\Roaming\\Python\\Python310\\site-packages\\sklearn\\linear_model\\_logistic.py:444: ConvergenceWarning: lbfgs failed to converge (status=1):\n",
      "STOP: TOTAL NO. of ITERATIONS REACHED LIMIT.\n",
      "\n",
      "Increase the number of iterations (max_iter) or scale the data as shown in:\n",
      "    https://scikit-learn.org/stable/modules/preprocessing.html\n",
      "Please also refer to the documentation for alternative solver options:\n",
      "    https://scikit-learn.org/stable/modules/linear_model.html#logistic-regression\n",
      "  n_iter_i = _check_optimize_result(\n",
      "C:\\Users\\hazem\\AppData\\Roaming\\Python\\Python310\\site-packages\\sklearn\\linear_model\\_logistic.py:444: ConvergenceWarning: lbfgs failed to converge (status=1):\n",
      "STOP: TOTAL NO. of ITERATIONS REACHED LIMIT.\n",
      "\n",
      "Increase the number of iterations (max_iter) or scale the data as shown in:\n",
      "    https://scikit-learn.org/stable/modules/preprocessing.html\n",
      "Please also refer to the documentation for alternative solver options:\n",
      "    https://scikit-learn.org/stable/modules/linear_model.html#logistic-regression\n",
      "  n_iter_i = _check_optimize_result(\n",
      "C:\\Users\\hazem\\AppData\\Roaming\\Python\\Python310\\site-packages\\sklearn\\linear_model\\_logistic.py:444: ConvergenceWarning: lbfgs failed to converge (status=1):\n",
      "STOP: TOTAL NO. of ITERATIONS REACHED LIMIT.\n",
      "\n",
      "Increase the number of iterations (max_iter) or scale the data as shown in:\n",
      "    https://scikit-learn.org/stable/modules/preprocessing.html\n",
      "Please also refer to the documentation for alternative solver options:\n",
      "    https://scikit-learn.org/stable/modules/linear_model.html#logistic-regression\n",
      "  n_iter_i = _check_optimize_result(\n",
      "C:\\Users\\hazem\\AppData\\Roaming\\Python\\Python310\\site-packages\\sklearn\\linear_model\\_logistic.py:444: ConvergenceWarning: lbfgs failed to converge (status=1):\n",
      "STOP: TOTAL NO. of ITERATIONS REACHED LIMIT.\n",
      "\n",
      "Increase the number of iterations (max_iter) or scale the data as shown in:\n",
      "    https://scikit-learn.org/stable/modules/preprocessing.html\n",
      "Please also refer to the documentation for alternative solver options:\n",
      "    https://scikit-learn.org/stable/modules/linear_model.html#logistic-regression\n",
      "  n_iter_i = _check_optimize_result(\n",
      "C:\\Users\\hazem\\AppData\\Roaming\\Python\\Python310\\site-packages\\sklearn\\linear_model\\_logistic.py:444: ConvergenceWarning: lbfgs failed to converge (status=1):\n",
      "STOP: TOTAL NO. of ITERATIONS REACHED LIMIT.\n",
      "\n",
      "Increase the number of iterations (max_iter) or scale the data as shown in:\n",
      "    https://scikit-learn.org/stable/modules/preprocessing.html\n",
      "Please also refer to the documentation for alternative solver options:\n",
      "    https://scikit-learn.org/stable/modules/linear_model.html#logistic-regression\n",
      "  n_iter_i = _check_optimize_result(\n",
      "C:\\Users\\hazem\\AppData\\Roaming\\Python\\Python310\\site-packages\\sklearn\\linear_model\\_logistic.py:444: ConvergenceWarning: lbfgs failed to converge (status=1):\n",
      "STOP: TOTAL NO. of ITERATIONS REACHED LIMIT.\n",
      "\n",
      "Increase the number of iterations (max_iter) or scale the data as shown in:\n",
      "    https://scikit-learn.org/stable/modules/preprocessing.html\n",
      "Please also refer to the documentation for alternative solver options:\n",
      "    https://scikit-learn.org/stable/modules/linear_model.html#logistic-regression\n",
      "  n_iter_i = _check_optimize_result(\n",
      "C:\\Users\\hazem\\AppData\\Roaming\\Python\\Python310\\site-packages\\sklearn\\linear_model\\_logistic.py:444: ConvergenceWarning: lbfgs failed to converge (status=1):\n",
      "STOP: TOTAL NO. of ITERATIONS REACHED LIMIT.\n",
      "\n",
      "Increase the number of iterations (max_iter) or scale the data as shown in:\n",
      "    https://scikit-learn.org/stable/modules/preprocessing.html\n",
      "Please also refer to the documentation for alternative solver options:\n",
      "    https://scikit-learn.org/stable/modules/linear_model.html#logistic-regression\n",
      "  n_iter_i = _check_optimize_result(\n"
     ]
    },
    {
     "name": "stdout",
     "output_type": "stream",
     "text": [
      "Fold 1 Accuracy: 87.013%\n",
      "Fold 2 Accuracy: 79.221%\n",
      "Fold 3 Accuracy: 72.727%\n",
      "Fold 4 Accuracy: 76.623%\n",
      "Fold 5 Accuracy: 74.026%\n",
      "Fold 6 Accuracy: 74.026%\n",
      "Fold 7 Accuracy: 77.922%\n",
      "Fold 8 Accuracy: 72.727%\n",
      "Fold 9 Accuracy: 71.053%\n",
      "Fold 10 Accuracy: 80.263%\n",
      "Average Accuracy: 74.4771018455229%\n"
     ]
    },
    {
     "name": "stderr",
     "output_type": "stream",
     "text": [
      "C:\\Users\\hazem\\AppData\\Roaming\\Python\\Python310\\site-packages\\sklearn\\linear_model\\_logistic.py:444: ConvergenceWarning: lbfgs failed to converge (status=1):\n",
      "STOP: TOTAL NO. of ITERATIONS REACHED LIMIT.\n",
      "\n",
      "Increase the number of iterations (max_iter) or scale the data as shown in:\n",
      "    https://scikit-learn.org/stable/modules/preprocessing.html\n",
      "Please also refer to the documentation for alternative solver options:\n",
      "    https://scikit-learn.org/stable/modules/linear_model.html#logistic-regression\n",
      "  n_iter_i = _check_optimize_result(\n"
     ]
    }
   ],
   "source": [
    "k_fold = KFold(n_splits=10, shuffle=True, random_state=0)\n",
    "scores_for_reg = cross_val_score(logisticReg, X, Y, cv=k_fold, n_jobs=1)\n",
    "for i in range(len(scores_for_reg)):\n",
    "    score = '%.3f'%(scores_for_reg[i]*100)\n",
    "    print(\"Fold {i} Accuracy: {score}%\".format(i=i+1, score=score))\n",
    "    \n",
    "print(\"Average Accuracy: {score}%\".format(score=scores.mean()*100))"
   ]
  }
 ],
 "metadata": {
  "kernelspec": {
   "display_name": "Python 3",
   "language": "python",
   "name": "python3"
  },
  "language_info": {
   "codemirror_mode": {
    "name": "ipython",
    "version": 3
   },
   "file_extension": ".py",
   "mimetype": "text/x-python",
   "name": "python",
   "nbconvert_exporter": "python",
   "pygments_lexer": "ipython3",
   "version": "3.10.4"
  },
  "orig_nbformat": 4,
  "vscode": {
   "interpreter": {
    "hash": "984af8c6da09242ba65ce2ad0f3b09562653f0cc3ee165aa97df6fca04a6c005"
   }
  }
 },
 "nbformat": 4,
 "nbformat_minor": 2
}
