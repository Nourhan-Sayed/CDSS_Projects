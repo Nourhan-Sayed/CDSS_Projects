{
 "cells": [
  {
   "cell_type": "code",
   "execution_count": 40,
   "metadata": {
    "collapsed": true
   },
   "outputs": [],
   "source": [
    "import pandas as pd\n",
    "from sklearn.linear_model import LogisticRegression\n",
    "from sklearn.model_selection import train_test_split\n",
    "from sklearn.model_selection import KFold, cross_val_score\n",
    "from sklearn.preprocessing import StandardScaler\n",
    "from sklearn.metrics import accuracy_score, confusion_matrix\n",
    "import warnings\n",
    "warnings.filterwarnings(\"ignore\")"
   ]
  },
  {
   "cell_type": "code",
   "execution_count": 41,
   "outputs": [
    {
     "data": {
      "text/plain": "  Class_secondary_hypothyroid Class_primary_hypothyroid  \\\n0                T4U measured                       FTI   \n1                 T3 measured                       TT4   \n2                TT4 measured            Class_negative   \n3              Class_negative                       TSH   \n4                FTI measured                        T3   \n\n  Class_compensated_hypothyroid                 Class_negative  \n0                           FTI                            FTI  \n1                           TT4                            TT4  \n2                Class_negative                            TSH  \n3                           TSH      Class_primary_hypothyroid  \n4                            T3  Class_compensated_hypothyroid  ",
      "text/html": "<div>\n<style scoped>\n    .dataframe tbody tr th:only-of-type {\n        vertical-align: middle;\n    }\n\n    .dataframe tbody tr th {\n        vertical-align: top;\n    }\n\n    .dataframe thead th {\n        text-align: right;\n    }\n</style>\n<table border=\"1\" class=\"dataframe\">\n  <thead>\n    <tr style=\"text-align: right;\">\n      <th></th>\n      <th>Class_secondary_hypothyroid</th>\n      <th>Class_primary_hypothyroid</th>\n      <th>Class_compensated_hypothyroid</th>\n      <th>Class_negative</th>\n    </tr>\n  </thead>\n  <tbody>\n    <tr>\n      <th>0</th>\n      <td>T4U measured</td>\n      <td>FTI</td>\n      <td>FTI</td>\n      <td>FTI</td>\n    </tr>\n    <tr>\n      <th>1</th>\n      <td>T3 measured</td>\n      <td>TT4</td>\n      <td>TT4</td>\n      <td>TT4</td>\n    </tr>\n    <tr>\n      <th>2</th>\n      <td>TT4 measured</td>\n      <td>Class_negative</td>\n      <td>Class_negative</td>\n      <td>TSH</td>\n    </tr>\n    <tr>\n      <th>3</th>\n      <td>Class_negative</td>\n      <td>TSH</td>\n      <td>TSH</td>\n      <td>Class_primary_hypothyroid</td>\n    </tr>\n    <tr>\n      <th>4</th>\n      <td>FTI measured</td>\n      <td>T3</td>\n      <td>T3</td>\n      <td>Class_compensated_hypothyroid</td>\n    </tr>\n  </tbody>\n</table>\n</div>"
     },
     "execution_count": 41,
     "metadata": {},
     "output_type": "execute_result"
    }
   ],
   "source": [
    "df_data = pd.read_csv(\"data/cleaned_data.csv\")\n",
    "df_classes = pd.read_csv(\"data/selected_feats.csv\")\n",
    "df_classes"
   ],
   "metadata": {
    "collapsed": false
   }
  },
  {
   "cell_type": "code",
   "execution_count": 51,
   "outputs": [
    {
     "name": "stdout",
     "output_type": "stream",
     "text": [
      "<class 'pandas.core.frame.DataFrame'>\n",
      "RangeIndex: 3622 entries, 0 to 3621\n",
      "Data columns (total 35 columns):\n",
      " #   Column                         Non-Null Count  Dtype  \n",
      "---  ------                         --------------  -----  \n",
      " 0   age                            3622 non-null   float64\n",
      " 1   sex                            3622 non-null   float64\n",
      " 2   on thyroxine                   3622 non-null   float64\n",
      " 3   query on thyroxine             3622 non-null   float64\n",
      " 4   on antithyroid medication      3622 non-null   float64\n",
      " 5   TSH measured                   3622 non-null   float64\n",
      " 6   psych                          3622 non-null   float64\n",
      " 7   hypopituitary                  3622 non-null   float64\n",
      " 8   tumor                          3622 non-null   float64\n",
      " 9   goitre                         3622 non-null   float64\n",
      " 10  lithium                        3622 non-null   float64\n",
      " 11  query hyperthyroid             3622 non-null   float64\n",
      " 12  query hypothyroid              3622 non-null   float64\n",
      " 13  I131 treatment                 3622 non-null   float64\n",
      " 14  thyroid surgery                3622 non-null   float64\n",
      " 15  pregnant                       3622 non-null   float64\n",
      " 16  sick                           3622 non-null   float64\n",
      " 17  T3 measured                    3622 non-null   float64\n",
      " 18  TT4 measured                   3622 non-null   float64\n",
      " 19  T4U measured                   3622 non-null   float64\n",
      " 20  FTI measured                   3622 non-null   float64\n",
      " 21  TSH                            3622 non-null   float64\n",
      " 22  T3                             3622 non-null   float64\n",
      " 23  TT4                            3622 non-null   float64\n",
      " 24  T4U                            3622 non-null   float64\n",
      " 25  FTI                            3622 non-null   float64\n",
      " 26  referral_source_STMW           3622 non-null   float64\n",
      " 27  referral_source_SVHC           3622 non-null   float64\n",
      " 28  referral_source_SVHD           3622 non-null   float64\n",
      " 29  referral_source_SVI            3622 non-null   float64\n",
      " 30  referral_source_other          3622 non-null   float64\n",
      " 31  Class_compensated_hypothyroid  3622 non-null   float64\n",
      " 32  Class_negative                 3622 non-null   float64\n",
      " 33  Class_primary_hypothyroid      3622 non-null   float64\n",
      " 34  Class_secondary_hypothyroid    3622 non-null   float64\n",
      "dtypes: float64(35)\n",
      "memory usage: 990.5 KB\n"
     ]
    }
   ],
   "source": [
    "df_data.info()"
   ],
   "metadata": {
    "collapsed": false
   }
  },
  {
   "cell_type": "code",
   "execution_count": 46,
   "outputs": [
    {
     "name": "stdout",
     "output_type": "stream",
     "text": [
      "Model Accuracy = 0.9994478188845941\n",
      " Confusion Matrix = [[ 140    1]\n",
      " [   0 1670]] \n",
      " Avg Cross Validation Score = 0.9991724106397815\n"
     ]
    }
   ],
   "source": [
    "x_train_neg, x_test_neg, y_train_neg, y_test_neg = train_test_split(df_data[list(df_classes.iloc[:,3])], df_data[df_classes.columns.values[3]],test_size=0.3, random_state=0)\n",
    "\n",
    "sc_neg = StandardScaler()\n",
    "x_train_neg = sc_neg.fit_transform(x_train_neg)\n",
    "x_test_neg = sc_neg.transform(x_test_neg)\n",
    "\n",
    "lr_neg = LogisticRegression()\n",
    "lr_neg.fit(x_train_neg, y_train_neg)\n",
    "\n",
    "y_pred_neg = lr_neg.predict(x_test_neg)\n",
    "cm_neg = confusion_matrix(y_test_neg, y_pred_neg)\n",
    "accuracy_neg = accuracy_score(y_test_neg, lr_neg.predict(x_test_neg))\n",
    "score_neg = cross_val_score(lr_neg, df_data[list(df_classes.iloc[:,3])], df_data[df_classes.columns.values[3]], cv=KFold(n_splits=15))\n",
    "print(f'Model Accuracy = {accuracy_neg}\\n Confusion Matrix = {cm_neg} \\n Avg Cross Validation Score = {score_neg.mean()}')"
   ],
   "metadata": {
    "collapsed": false
   }
  },
  {
   "cell_type": "code",
   "execution_count": 47,
   "outputs": [
    {
     "name": "stdout",
     "output_type": "stream",
     "text": [
      "Model Accuracy = 0.9939260077305356\n",
      " Confusion Matrix = [[1706    7]\n",
      " [   4   94]] \n",
      " Avg Cross Validation Score = 0.9930980876284535\n"
     ]
    }
   ],
   "source": [
    "x_train_comp_hypo, x_test_comp_hypo, y_train_comp_hypo, y_test_comp_hypo = train_test_split(df_data[list(df_classes.iloc[:,2])], df_data[df_classes.columns.values[2]], test_size=0.3, random_state=0)\n",
    "\n",
    "sc_comp_hypo = StandardScaler()\n",
    "x_train_comp_hypo = sc_comp_hypo.fit_transform(x_train_comp_hypo)\n",
    "x_test_comp_hypo = sc_comp_hypo.transform(x_test_comp_hypo)\n",
    "\n",
    "lr_comp_hypo = LogisticRegression()\n",
    "lr_comp_hypo.fit(x_train_comp_hypo, y_train_comp_hypo)\n",
    "\n",
    "y_pred_comp_hypo = lr_comp_hypo.predict(x_test_comp_hypo)\n",
    "cm_compo_hypo = confusion_matrix(y_test_comp_hypo, y_pred_comp_hypo)\n",
    "accuracy_compo_hypo = accuracy_score(y_test_comp_hypo, lr_comp_hypo.predict(x_test_comp_hypo))\n",
    "score_compo_hypo = cross_val_score(lr_comp_hypo, df_data[list(df_classes.iloc[:,2])], df_data[df_classes.columns.values[2]], cv=KFold(n_splits=15))\n",
    "print(f'Model Accuracy = {accuracy_compo_hypo}\\n Confusion Matrix = {cm_compo_hypo} \\n Avg Cross Validation Score = {score_compo_hypo.mean()}')"
   ],
   "metadata": {
    "collapsed": false
   }
  },
  {
   "cell_type": "code",
   "execution_count": 48,
   "outputs": [
    {
     "name": "stdout",
     "output_type": "stream",
     "text": [
      "Model Accuracy = 0.9944781888459415\n",
      " Confusion Matrix = [[1766    3]\n",
      " [   7   35]] \n",
      " Avg Cross Validation Score = 0.9950298915217815\n"
     ]
    }
   ],
   "source": [
    "x_train_prim_hypo, x_test_prim_hypo, y_train_prim_hypo, y_test_prim_hypo = train_test_split(df_data[list(df_classes.iloc[:,1])], df_data[df_classes.columns.values[1]], test_size=0.3, random_state=0)\n",
    "\n",
    "sc_prim_hypo = StandardScaler()\n",
    "x_train_prim_hypo = sc_prim_hypo.fit_transform(x_train_prim_hypo)\n",
    "x_test_prim_hypo = sc_prim_hypo.transform(x_test_prim_hypo)\n",
    "\n",
    "lr_prim_hypo = LogisticRegression()\n",
    "lr_prim_hypo.fit(x_train_prim_hypo, y_train_prim_hypo)\n",
    "\n",
    "y_pred_prim_hypo = lr_prim_hypo.predict(x_test_prim_hypo)\n",
    "cm_prim_hypo = confusion_matrix(y_test_prim_hypo, y_pred_prim_hypo)\n",
    "accuracy_prim_hypo = accuracy_score(y_test_prim_hypo, lr_prim_hypo.predict(x_test_prim_hypo))\n",
    "score_prim_hypo = cross_val_score(lr_prim_hypo, df_data[list(df_classes.iloc[:,1])], df_data[df_classes.columns.values[1]], cv=KFold(n_splits=15))\n",
    "print(f'Model Accuracy = {accuracy_prim_hypo}\\n Confusion Matrix = {cm_prim_hypo} \\n Avg Cross Validation Score = {score_prim_hypo.mean()}')"
   ],
   "metadata": {
    "collapsed": false
   }
  },
  {
   "cell_type": "code",
   "execution_count": 49,
   "outputs": [
    {
     "name": "stdout",
     "output_type": "stream",
     "text": [
      "Model Accuracy = 0.9994478188845941\n",
      " Confusion Matrix = [[1810    0]\n",
      " [   1    0]] \n",
      " Avg Cross Validation Score = 0.9994478927334453\n"
     ]
    }
   ],
   "source": [
    "x_train_sec_hypo, x_test_sec_hypo, y_train_sec_hypo, y_test_sec_hypo = train_test_split(df_data[list(df_classes.iloc[:,0])], df_data[df_classes.columns.values[0]], test_size=0.3, random_state=0)\n",
    "\n",
    "sc_sec_hypo = StandardScaler()\n",
    "x_train_sec_hypo = sc_sec_hypo.fit_transform(x_train_sec_hypo)\n",
    "x_test_sec_hypo = sc_sec_hypo.transform(x_test_sec_hypo)\n",
    "\n",
    "lr_sec_hypo = LogisticRegression()\n",
    "lr_sec_hypo.fit(x_train_sec_hypo, y_train_sec_hypo)\n",
    "\n",
    "y_pred_sec_hypo = lr_sec_hypo.predict(x_test_sec_hypo)\n",
    "cm_sec_hypo = confusion_matrix(y_test_sec_hypo, y_pred_sec_hypo)\n",
    "accuracy_sec_hypo = accuracy_score(y_test_sec_hypo, lr_sec_hypo.predict(x_test_sec_hypo))\n",
    "score_sec_hypo = cross_val_score(lr_sec_hypo, df_data[list(df_classes.iloc[:,0])], df_data[df_classes.columns.values[0]], cv=KFold(n_splits=15))\n",
    "print(f'Model Accuracy = {accuracy_sec_hypo}\\n Confusion Matrix = {cm_sec_hypo} \\n Avg Cross Validation Score = {score_sec_hypo.mean()}')"
   ],
   "metadata": {
    "collapsed": false
   }
  },
  {
   "cell_type": "code",
   "execution_count": null,
   "outputs": [],
   "source": [],
   "metadata": {
    "collapsed": false
   }
  }
 ],
 "metadata": {
  "kernelspec": {
   "display_name": "Python 3",
   "language": "python",
   "name": "python3"
  },
  "language_info": {
   "codemirror_mode": {
    "name": "ipython",
    "version": 2
   },
   "file_extension": ".py",
   "mimetype": "text/x-python",
   "name": "python",
   "nbconvert_exporter": "python",
   "pygments_lexer": "ipython2",
   "version": "2.7.6"
  }
 },
 "nbformat": 4,
 "nbformat_minor": 0
}
