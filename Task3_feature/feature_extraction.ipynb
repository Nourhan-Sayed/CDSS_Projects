{
 "cells": [
  {
   "cell_type": "code",
   "execution_count": 2,
   "metadata": {},
   "outputs": [],
   "source": [
    "import wfdb\n",
    "import wfdb.processing\n",
    "from wfdb.processing import xqrs_detect\n",
    "import numpy as np\n",
    "import os\n",
    "import matplotlib.pyplot as plt\n",
    "import pandas as pd\n",
    "from scipy import signal\n",
    "from scipy.integrate import trapz\n",
    "%matplotlib inline"
   ]
  },
  {
   "attachments": {},
   "cell_type": "markdown",
   "metadata": {},
   "source": [
    "# Using the wfdb library to read the data."
   ]
  },
  {
   "cell_type": "code",
   "execution_count": 3,
   "metadata": {},
   "outputs": [
    {
     "name": "stdout",
     "output_type": "stream",
     "text": [
      "(array(['A', 'N'], dtype='<U1'), array([453,  39], dtype=int64))\n"
     ]
    },
    {
     "data": {
      "image/png": "[encoded data removed]",
      "text/plain": [
       "<Figure size 432x288 with 1 Axes>"
      ]
     },
     "metadata": {
      "needs_background": "light"
     },
     "output_type": "display_data"
    }
   ],
   "source": [
    "#main path for dataset\n",
    "path = \"../../apnea-ecg-database-1.0.0/\"\n",
    "#read a sample record from dataset\n",
    "Signal_record = wfdb.rdrecord(os.path.join(path, 'a01'), channels=[0])\n",
    "outcome = wfdb.rdann(os.path.join(path,'a04'), extension='apn')\n",
    "print(np.unique(outcome.symbol, return_counts=True))\n",
    "#plot the start of the signal\n",
    "plt.plot(Signal_record.p_signal[0:500])\n",
    "plt.show()"
   ]
  },
  {
   "attachments": {},
   "cell_type": "markdown",
   "metadata": {},
   "source": [
    "# Time domain features + functions\n",
    "[Source for features mentioned](https://www.mdpi.com/2076-3417/12/9/4218)\n",
    "\n",
    "feature | Description\n",
    "---  | ---\n",
    "RRmean |\tMean of RR intervals \n",
    "RMSSD | Root mean square of differences between adjacent RR intervals \n",
    "SDNN | Standard deviation of RR intervals \n",
    "NN50 | Number of adjacent RR intervals exceeding 50 milliseconds \n",
    "pNN50 |\tRatio of NN50 to the number of RR intervals \n",
    "HR\t| Mean of heart rates \n"
   ]
  },
  {
   "attachments": {},
   "cell_type": "markdown",
   "metadata": {},
   "source": [
    "## These are secondary functions that are called in time_domain_features() and frequency_domain_features"
   ]
  },
  {
   "cell_type": "code",
   "execution_count": 5,
   "metadata": {},
   "outputs": [],
   "source": [
    "def calc_RR_intervals(ecg_signal, fs):\n",
    "    '''\n",
    "    ecg_signal: time series data\n",
    "    fs: sample rate\n",
    "    return: rr_intervals\n",
    "    the RR interval is the time between two consecutive R peaks, returned in milliseconds\n",
    "    '''\n",
    "    qrs_inds = xqrs_detect(ecg_signal, fs=fs)\n",
    "    # Calculate R-R intervals\n",
    "    rr_intervals = np.diff(qrs_inds) / fs  # convert to seconds\n",
    "    return rr_intervals\n",
    "#calculates the R amplitudes RAMP signal\n",
    "def calc_RAMP(ecg_sig):\n",
    "    # linear spaced vector between 0.5 pi and 1.5 pi \n",
    "    v = np.linspace(0.5 * np.pi, 1.5 * np.pi, 15)\n",
    "    # use sine to approximate QRS feature\n",
    "    peak_filter = np.sin(v)\n",
    "    ecg_transformed = np.correlate(ecg_sig, peak_filter, mode=\"same\")\n",
    "    rr_peaks, _ = signal.find_peaks(ecg_transformed, distance=50)\n",
    "    return rr_peaks"
   ]
  },
  {
   "attachments": {},
   "cell_type": "markdown",
   "metadata": {},
   "source": [
    "# Get time domain for one element (1-D)"
   ]
  },
  {
   "cell_type": "code",
   "execution_count": 119,
   "metadata": {},
   "outputs": [],
   "source": [
    "# returns time domain features for a chunk of signal\n",
    "def time_domain_features(ecg_signal, fs):\n",
    "    '''\n",
    "    ecg_signal: 1-D numpyarray time series ECG\n",
    "    fs: sample rate\n",
    "    return: RRmean, mean of RR intervals\n",
    "            RRMSSD, Root mean square of differences between adjacent RR intervals\n",
    "            SDNN, standard deviation of RR intervals\n",
    "            NN50, Number of adjacent RR intervals differing by more than 50 ms\n",
    "            pNN50, Proportion of NN50 divided by total number of RR intervals\n",
    "            mean_HR Mean heart rate\n",
    "    '''\n",
    "    rr_intervals = calc_RR_intervals(ecg_signal, fs)\n",
    "    RRmean = np.mean(rr_intervals)\n",
    "    RRMSSD = np.sqrt(np.mean(np.square(np.diff(rr_intervals))))\n",
    "    SDNN = np.std(rr_intervals)\n",
    "    NN50 = np.sum(np.abs(np.diff(rr_intervals)) > 50)\n",
    "    pNN50 = NN50 / len(rr_intervals)\n",
    "    mean_HR = 60 / RRmean\n",
    "    return RRmean, RRMSSD, SDNN, NN50, pNN50, mean_HR"
   ]
  },
  {
   "cell_type": "code",
   "execution_count": 121,
   "metadata": {},
   "outputs": [
    {
     "name": "stdout",
     "output_type": "stream",
     "text": [
      "Learning initial signal parameters...\n",
      "Found 8 beats during learning. Initializing using learned parameters\n",
      "Running QRS detection...\n",
      "QRS detection complete.\n",
      "0.987412244080024 0.1025121170151926 0.1641593585591422 0 0.0 60.764893649766556\n"
     ]
    }
   ],
   "source": [
    "a, b, c,d,e,f = time_domain_features(Signal_record.p_signal[:,0], Signal_record.fs)\n",
    "print(a, b, c, d, e, f)"
   ]
  },
  {
   "cell_type": "markdown",
   "metadata": {},
   "source": [
    "# Frequency domain features\n",
    "\n",
    "    Features | Description\n",
    "\t--- | ---\n",
    "\tVLF1, VLF2 | Very low frequency (0-0.04 Hz) component of the corresponding signal\n",
    "\tLF1, LF2 | Low frequency (0.04~0.15 Hz) component of the corresponding signal\n",
    "\tHF1, HF2 | High frequency (0.15~0.4 Hz) component of the corresponding signal\n",
    "\tLF/HF1, LF/HF2\t| Ratio of LF to HF\n",
    "\tLFnorm1, LFnorm2 |\tNormalized low frequency components\n",
    "\tHFnorm1, HFnorm2 |\tNormalized high frequency components\n",
    "\n",
    "Note: 1, 2 represent the frequency domain features of the RR interval and RAMP, respectively."
   ]
  },
  {
   "cell_type": "code",
   "execution_count": 8,
   "metadata": {},
   "outputs": [],
   "source": [
    "def frequency_domain(ecg_sig, fs):\n",
    "    rri = calc_RR_intervals(ecg_sig, fs)\n",
    "    rr_peaks = calc_RAMP(ecg_sig)\n",
    "    # Estimate the spectral density using Welch's method\n",
    "    '''\n",
    "    Segement found frequencies in the bands \n",
    "     - Very Low Frequency (VLF): 0-0.04Hz \n",
    "     - Low Frequency (LF): 0.04-0.15Hz \n",
    "     - High Frequency (HF): 0.15-0.4Hz\n",
    "    '''\n",
    "    # calculate RR features\n",
    "    fxx_RR, pxx_RR = signal.periodogram(x=rri, fs=fs)\n",
    "    cond_vlf_RR = (fxx_RR >= 0) & (fxx_RR < 0.04)\n",
    "    cond_lf_RR = (fxx_RR >= 0.04) & (fxx_RR < 0.15)\n",
    "    cond_hf_RR = (fxx_RR >= 0.15) & (fxx_RR < 0.4)\n",
    "    # calculate power in each band by integrating the spectral density \n",
    "    vlf_RR = trapz(pxx_RR[cond_vlf_RR], fxx_RR[cond_vlf_RR])\n",
    "    lf_RR = trapz(pxx_RR[cond_lf_RR], fxx_RR[cond_lf_RR])\n",
    "    hf_RR = trapz(pxx_RR[cond_hf_RR], fxx_RR[cond_hf_RR])\n",
    "    # sum these up to get total power\n",
    "    total_power_RR = vlf_RR + lf_RR + hf_RR\n",
    "    # find which frequency has the most power in each band\n",
    "    peak_vlf_RR = fxx_RR[cond_vlf_RR][np.argmax(pxx_RR[cond_vlf_RR])]\n",
    "    peak_lf_RR = fxx_RR[cond_lf_RR][np.argmax(pxx_RR[cond_lf_RR])]\n",
    "    peak_hf_RR = fxx_RR[cond_hf_RR][np.argmax(pxx_RR[cond_hf_RR])]\n",
    "    lf_norm_RR = lf_RR/ total_power_RR\n",
    "    hf_norm_RR = hf_RR / total_power_RR\n",
    "    \n",
    "    #calculate RAMP features\n",
    "    fxx_RAMP, pxx_RAMP = signal.periodogram(x=rr_peaks, fs=fs)\n",
    "    cond_vlf_RAMP = (fxx_RAMP >= 0) & (fxx_RAMP < 0.04)\n",
    "    cond_lf_RAMP = (fxx_RAMP >= 0.04) & (fxx_RAMP < 0.15)\n",
    "    cond_hf_RAMP = (fxx_RAMP>= 0.15) & (fxx_RAMP < 0.4)\n",
    "    # calculate power in each band by integrating the spectral density \n",
    "    vlf_RAMP = trapz(pxx_RAMP[cond_vlf_RAMP], fxx_RAMP[cond_vlf_RAMP])\n",
    "    lf_RAMP = trapz(pxx_RAMP[cond_lf_RAMP], fxx_RAMP[cond_lf_RAMP])\n",
    "    hf_RAMP = trapz(pxx_RAMP[cond_hf_RAMP], fxx_RAMP[cond_hf_RAMP])\n",
    "    # sum these up to get total power\n",
    "    total_power_RAMP = vlf_RAMP + lf_RAMP + hf_RAMP\n",
    "    # find which frequency has the most power in each band\n",
    "    peak_vlf_RAMP = fxx_RAMP[cond_vlf_RAMP][np.argmax(pxx_RAMP[cond_vlf_RAMP])]\n",
    "    peak_lf_RAMP = fxx_RAMP[cond_lf_RAMP][np.argmax(pxx_RAMP[cond_lf_RAMP])]\n",
    "    peak_hf_RAMP = fxx_RAMP[cond_hf_RAMP][np.argmax(pxx_RAMP[cond_hf_RAMP])]\n",
    "    lf_norm_RAMP = lf_RAMP / total_power_RAMP\n",
    "    hf_norm_RAMP = hf_RAMP / total_power_RAMP  \n",
    "\n",
    "\n",
    "    #map values to aforementioned values\n",
    "    VLF1 = vlf_RR; VLF2 = vlf_RAMP # VLF1, VLF2 | Very low frequency (0-0.04 Hz) component of the corresponding signal\n",
    "    LF1 = lf_RR; LF2 = lf_RAMP # LF1, LF2 | Low frequency (0.04~0.15 Hz) component of the corresponding signal\n",
    "    HF1 = hf_RR; HF2 = hf_RAMP # HF1, HF2 | High frequency (0.15~0.4 Hz) component of the corresponding signal\n",
    "\n",
    "    LF_HF1 = lf_RR/hf_RR; LF_HF2 = lf_RAMP/hf_RAMP # LF/HF1, LF/HF2\t| Ratio of LF to HF\n",
    "    LF_NORM1 = lf_norm_RR; LF_NORM2 = lf_norm_RAMP# LFnorm1, LFnorm2 |\tNormalized low frequency components\n",
    "    HF_NORM1 = hf_norm_RR; HF_NORM2 = hf_norm_RAMP # HFnorm1, HFnorm2 |\tNormalized high frequency components\n",
    "    return  [VLF1, VLF2, LF1, LF2, HF1, HF2, LF_HF1, LF_HF2, LF_NORM1, LF_NORM2, HF_NORM1, HF_NORM2]\n",
    "\n",
    "results = frequency_domain(Signal_record.p_signal[:,0], Signal_record.fs)\n",
    "print(results)"
   ]
  }
 ],
 "metadata": {
  "kernelspec": {
   "display_name": "Python 3",
   "language": "python",
   "name": "python3"
  },
  "language_info": {
   "codemirror_mode": {
    "name": "ipython",
    "version": 3
   },
   "file_extension": ".py",
   "mimetype": "text/x-python",
   "name": "python",
   "nbconvert_exporter": "python",
   "pygments_lexer": "ipython3",
   "version": "3.9.10"
  },
  "orig_nbformat": 4
 },
 "nbformat": 4,
 "nbformat_minor": 2
}
